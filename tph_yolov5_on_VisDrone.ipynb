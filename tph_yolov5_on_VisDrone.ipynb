{
  "cells": [
    {
      "cell_type": "markdown",
      "metadata": {
        "id": "view-in-github",
        "colab_type": "text"
      },
      "source": [
        "<a href=\"https://colab.research.google.com/github/youcef-4/VisDrone/blob/main/tph_yolov5_on_VisDrone.ipynb\" target=\"_parent\"><img src=\"https://colab.research.google.com/assets/colab-badge.svg\" alt=\"Open In Colab\"/></a>"
      ]
    },
    {
      "cell_type": "code",
      "execution_count": null,
      "metadata": {
        "colab": {
          "base_uri": "https://localhost:8080/"
        },
        "id": "WisVcNYqBTfI",
        "outputId": "c6730646-c389-4ffa-957e-9e8a91dd6e58"
      },
      "outputs": [
        {
          "output_type": "stream",
          "name": "stdout",
          "text": [
            "Cloning into 'tph-yolov5'...\n",
            "remote: Enumerating objects: 246, done.\u001b[K\n",
            "remote: Counting objects: 100% (246/246), done.\u001b[K\n",
            "remote: Compressing objects: 100% (166/166), done.\u001b[K\n",
            "remote: Total 246 (delta 111), reused 178 (delta 76), pack-reused 0\u001b[K\n",
            "Receiving objects: 100% (246/246), 9.26 MiB | 10.89 MiB/s, done.\n",
            "Resolving deltas: 100% (111/111), done.\n"
          ]
        }
      ],
      "source": [
        "!git clone https://github.com/cv516Buaa/tph-yolov5"
      ]
    },
    {
      "cell_type": "code",
      "execution_count": null,
      "metadata": {
        "id": "le1LDtGuBhaI"
      },
      "outputs": [],
      "source": [
        "!cd tph-yolov5\n"
      ]
    },
    {
      "cell_type": "code",
      "execution_count": null,
      "metadata": {
        "colab": {
          "base_uri": "https://localhost:8080/"
        },
        "id": "SMsZxyBtBxn6",
        "outputId": "f1328281-0ee7-4032-fe4a-d14f175fc61e"
      },
      "outputs": [
        {
          "output_type": "stream",
          "name": "stdout",
          "text": [
            "Looking in indexes: https://pypi.org/simple, https://us-python.pkg.dev/colab-wheels/public/simple/\n",
            "Requirement already satisfied: matplotlib>=3.2.2 in /usr/local/lib/python3.10/dist-packages (from -r /content/tph-yolov5/requirements.txt (line 4)) (3.7.1)\n",
            "Requirement already satisfied: numpy>=1.18.5 in /usr/local/lib/python3.10/dist-packages (from -r /content/tph-yolov5/requirements.txt (line 5)) (1.22.4)\n",
            "Requirement already satisfied: opencv-python>=4.1.2 in /usr/local/lib/python3.10/dist-packages (from -r /content/tph-yolov5/requirements.txt (line 6)) (4.7.0.72)\n",
            "Requirement already satisfied: Pillow>=7.1.2 in /usr/local/lib/python3.10/dist-packages (from -r /content/tph-yolov5/requirements.txt (line 7)) (8.4.0)\n",
            "Requirement already satisfied: PyYAML>=5.3.1 in /usr/local/lib/python3.10/dist-packages (from -r /content/tph-yolov5/requirements.txt (line 8)) (6.0)\n",
            "Requirement already satisfied: requests>=2.23.0 in /usr/local/lib/python3.10/dist-packages (from -r /content/tph-yolov5/requirements.txt (line 9)) (2.27.1)\n",
            "Requirement already satisfied: scipy>=1.4.1 in /usr/local/lib/python3.10/dist-packages (from -r /content/tph-yolov5/requirements.txt (line 10)) (1.10.1)\n",
            "Requirement already satisfied: torch>=1.7.0 in /usr/local/lib/python3.10/dist-packages (from -r /content/tph-yolov5/requirements.txt (line 11)) (2.0.0+cu118)\n",
            "Requirement already satisfied: torchvision>=0.8.1 in /usr/local/lib/python3.10/dist-packages (from -r /content/tph-yolov5/requirements.txt (line 12)) (0.15.1+cu118)\n",
            "Requirement already satisfied: tqdm>=4.41.0 in /usr/local/lib/python3.10/dist-packages (from -r /content/tph-yolov5/requirements.txt (line 13)) (4.65.0)\n",
            "Requirement already satisfied: tensorboard>=2.4.1 in /usr/local/lib/python3.10/dist-packages (from -r /content/tph-yolov5/requirements.txt (line 16)) (2.12.2)\n",
            "Requirement already satisfied: wandb in /usr/local/lib/python3.10/dist-packages (from -r /content/tph-yolov5/requirements.txt (line 17)) (0.15.2)\n",
            "Requirement already satisfied: pandas>=1.1.4 in /usr/local/lib/python3.10/dist-packages (from -r /content/tph-yolov5/requirements.txt (line 20)) (1.5.3)\n",
            "Requirement already satisfied: seaborn>=0.11.0 in /usr/local/lib/python3.10/dist-packages (from -r /content/tph-yolov5/requirements.txt (line 21)) (0.12.2)\n",
            "Requirement already satisfied: albumentations>=1.0.3 in /usr/local/lib/python3.10/dist-packages (from -r /content/tph-yolov5/requirements.txt (line 32)) (1.2.1)\n",
            "Requirement already satisfied: thop in /usr/local/lib/python3.10/dist-packages (from -r /content/tph-yolov5/requirements.txt (line 36)) (0.1.1.post2209072238)\n",
            "Requirement already satisfied: ensemble_boxes in /usr/local/lib/python3.10/dist-packages (from -r /content/tph-yolov5/requirements.txt (line 37)) (1.0.9)\n",
            "Requirement already satisfied: contourpy>=1.0.1 in /usr/local/lib/python3.10/dist-packages (from matplotlib>=3.2.2->-r /content/tph-yolov5/requirements.txt (line 4)) (1.0.7)\n",
            "Requirement already satisfied: cycler>=0.10 in /usr/local/lib/python3.10/dist-packages (from matplotlib>=3.2.2->-r /content/tph-yolov5/requirements.txt (line 4)) (0.11.0)\n",
            "Requirement already satisfied: fonttools>=4.22.0 in /usr/local/lib/python3.10/dist-packages (from matplotlib>=3.2.2->-r /content/tph-yolov5/requirements.txt (line 4)) (4.39.3)\n",
            "Requirement already satisfied: kiwisolver>=1.0.1 in /usr/local/lib/python3.10/dist-packages (from matplotlib>=3.2.2->-r /content/tph-yolov5/requirements.txt (line 4)) (1.4.4)\n",
            "Requirement already satisfied: packaging>=20.0 in /usr/local/lib/python3.10/dist-packages (from matplotlib>=3.2.2->-r /content/tph-yolov5/requirements.txt (line 4)) (23.1)\n",
            "Requirement already satisfied: pyparsing>=2.3.1 in /usr/local/lib/python3.10/dist-packages (from matplotlib>=3.2.2->-r /content/tph-yolov5/requirements.txt (line 4)) (3.0.9)\n",
            "Requirement already satisfied: python-dateutil>=2.7 in /usr/local/lib/python3.10/dist-packages (from matplotlib>=3.2.2->-r /content/tph-yolov5/requirements.txt (line 4)) (2.8.2)\n",
            "Requirement already satisfied: urllib3<1.27,>=1.21.1 in /usr/local/lib/python3.10/dist-packages (from requests>=2.23.0->-r /content/tph-yolov5/requirements.txt (line 9)) (1.26.15)\n",
            "Requirement already satisfied: certifi>=2017.4.17 in /usr/local/lib/python3.10/dist-packages (from requests>=2.23.0->-r /content/tph-yolov5/requirements.txt (line 9)) (2022.12.7)\n",
            "Requirement already satisfied: charset-normalizer~=2.0.0 in /usr/local/lib/python3.10/dist-packages (from requests>=2.23.0->-r /content/tph-yolov5/requirements.txt (line 9)) (2.0.12)\n",
            "Requirement already satisfied: idna<4,>=2.5 in /usr/local/lib/python3.10/dist-packages (from requests>=2.23.0->-r /content/tph-yolov5/requirements.txt (line 9)) (3.4)\n",
            "Requirement already satisfied: filelock in /usr/local/lib/python3.10/dist-packages (from torch>=1.7.0->-r /content/tph-yolov5/requirements.txt (line 11)) (3.12.0)\n",
            "Requirement already satisfied: typing-extensions in /usr/local/lib/python3.10/dist-packages (from torch>=1.7.0->-r /content/tph-yolov5/requirements.txt (line 11)) (4.5.0)\n",
            "Requirement already satisfied: sympy in /usr/local/lib/python3.10/dist-packages (from torch>=1.7.0->-r /content/tph-yolov5/requirements.txt (line 11)) (1.11.1)\n",
            "Requirement already satisfied: networkx in /usr/local/lib/python3.10/dist-packages (from torch>=1.7.0->-r /content/tph-yolov5/requirements.txt (line 11)) (3.1)\n",
            "Requirement already satisfied: jinja2 in /usr/local/lib/python3.10/dist-packages (from torch>=1.7.0->-r /content/tph-yolov5/requirements.txt (line 11)) (3.1.2)\n",
            "Requirement already satisfied: triton==2.0.0 in /usr/local/lib/python3.10/dist-packages (from torch>=1.7.0->-r /content/tph-yolov5/requirements.txt (line 11)) (2.0.0)\n",
            "Requirement already satisfied: cmake in /usr/local/lib/python3.10/dist-packages (from triton==2.0.0->torch>=1.7.0->-r /content/tph-yolov5/requirements.txt (line 11)) (3.25.2)\n",
            "Requirement already satisfied: lit in /usr/local/lib/python3.10/dist-packages (from triton==2.0.0->torch>=1.7.0->-r /content/tph-yolov5/requirements.txt (line 11)) (16.0.3)\n",
            "Requirement already satisfied: absl-py>=0.4 in /usr/local/lib/python3.10/dist-packages (from tensorboard>=2.4.1->-r /content/tph-yolov5/requirements.txt (line 16)) (1.4.0)\n",
            "Requirement already satisfied: grpcio>=1.48.2 in /usr/local/lib/python3.10/dist-packages (from tensorboard>=2.4.1->-r /content/tph-yolov5/requirements.txt (line 16)) (1.54.0)\n",
            "Requirement already satisfied: google-auth<3,>=1.6.3 in /usr/local/lib/python3.10/dist-packages (from tensorboard>=2.4.1->-r /content/tph-yolov5/requirements.txt (line 16)) (2.17.3)\n",
            "Requirement already satisfied: google-auth-oauthlib<1.1,>=0.5 in /usr/local/lib/python3.10/dist-packages (from tensorboard>=2.4.1->-r /content/tph-yolov5/requirements.txt (line 16)) (1.0.0)\n",
            "Requirement already satisfied: markdown>=2.6.8 in /usr/local/lib/python3.10/dist-packages (from tensorboard>=2.4.1->-r /content/tph-yolov5/requirements.txt (line 16)) (3.4.3)\n",
            "Requirement already satisfied: protobuf>=3.19.6 in /usr/local/lib/python3.10/dist-packages (from tensorboard>=2.4.1->-r /content/tph-yolov5/requirements.txt (line 16)) (3.20.3)\n",
            "Requirement already satisfied: setuptools>=41.0.0 in /usr/local/lib/python3.10/dist-packages (from tensorboard>=2.4.1->-r /content/tph-yolov5/requirements.txt (line 16)) (67.7.2)\n",
            "Requirement already satisfied: tensorboard-data-server<0.8.0,>=0.7.0 in /usr/local/lib/python3.10/dist-packages (from tensorboard>=2.4.1->-r /content/tph-yolov5/requirements.txt (line 16)) (0.7.0)\n",
            "Requirement already satisfied: tensorboard-plugin-wit>=1.6.0 in /usr/local/lib/python3.10/dist-packages (from tensorboard>=2.4.1->-r /content/tph-yolov5/requirements.txt (line 16)) (1.8.1)\n",
            "Requirement already satisfied: werkzeug>=1.0.1 in /usr/local/lib/python3.10/dist-packages (from tensorboard>=2.4.1->-r /content/tph-yolov5/requirements.txt (line 16)) (2.3.0)\n",
            "Requirement already satisfied: wheel>=0.26 in /usr/local/lib/python3.10/dist-packages (from tensorboard>=2.4.1->-r /content/tph-yolov5/requirements.txt (line 16)) (0.40.0)\n",
            "Requirement already satisfied: Click!=8.0.0,>=7.0 in /usr/local/lib/python3.10/dist-packages (from wandb->-r /content/tph-yolov5/requirements.txt (line 17)) (8.1.3)\n",
            "Requirement already satisfied: GitPython!=3.1.29,>=1.0.0 in /usr/local/lib/python3.10/dist-packages (from wandb->-r /content/tph-yolov5/requirements.txt (line 17)) (3.1.31)\n",
            "Requirement already satisfied: psutil>=5.0.0 in /usr/local/lib/python3.10/dist-packages (from wandb->-r /content/tph-yolov5/requirements.txt (line 17)) (5.9.5)\n",
            "Requirement already satisfied: sentry-sdk>=1.0.0 in /usr/local/lib/python3.10/dist-packages (from wandb->-r /content/tph-yolov5/requirements.txt (line 17)) (1.22.2)\n",
            "Requirement already satisfied: docker-pycreds>=0.4.0 in /usr/local/lib/python3.10/dist-packages (from wandb->-r /content/tph-yolov5/requirements.txt (line 17)) (0.4.0)\n",
            "Requirement already satisfied: pathtools in /usr/local/lib/python3.10/dist-packages (from wandb->-r /content/tph-yolov5/requirements.txt (line 17)) (0.1.2)\n",
            "Requirement already satisfied: setproctitle in /usr/local/lib/python3.10/dist-packages (from wandb->-r /content/tph-yolov5/requirements.txt (line 17)) (1.3.2)\n",
            "Requirement already satisfied: appdirs>=1.4.3 in /usr/local/lib/python3.10/dist-packages (from wandb->-r /content/tph-yolov5/requirements.txt (line 17)) (1.4.4)\n",
            "Requirement already satisfied: pytz>=2020.1 in /usr/local/lib/python3.10/dist-packages (from pandas>=1.1.4->-r /content/tph-yolov5/requirements.txt (line 20)) (2022.7.1)\n",
            "Requirement already satisfied: scikit-image>=0.16.1 in /usr/local/lib/python3.10/dist-packages (from albumentations>=1.0.3->-r /content/tph-yolov5/requirements.txt (line 32)) (0.19.3)\n",
            "Requirement already satisfied: qudida>=0.0.4 in /usr/local/lib/python3.10/dist-packages (from albumentations>=1.0.3->-r /content/tph-yolov5/requirements.txt (line 32)) (0.0.4)\n",
            "Requirement already satisfied: opencv-python-headless>=4.1.1 in /usr/local/lib/python3.10/dist-packages (from albumentations>=1.0.3->-r /content/tph-yolov5/requirements.txt (line 32)) (4.7.0.72)\n",
            "Requirement already satisfied: numba in /usr/local/lib/python3.10/dist-packages (from ensemble_boxes->-r /content/tph-yolov5/requirements.txt (line 37)) (0.56.4)\n",
            "Requirement already satisfied: six>=1.4.0 in /usr/local/lib/python3.10/dist-packages (from docker-pycreds>=0.4.0->wandb->-r /content/tph-yolov5/requirements.txt (line 17)) (1.16.0)\n",
            "Requirement already satisfied: gitdb<5,>=4.0.1 in /usr/local/lib/python3.10/dist-packages (from GitPython!=3.1.29,>=1.0.0->wandb->-r /content/tph-yolov5/requirements.txt (line 17)) (4.0.10)\n",
            "Requirement already satisfied: cachetools<6.0,>=2.0.0 in /usr/local/lib/python3.10/dist-packages (from google-auth<3,>=1.6.3->tensorboard>=2.4.1->-r /content/tph-yolov5/requirements.txt (line 16)) (5.3.0)\n",
            "Requirement already satisfied: pyasn1-modules>=0.2.1 in /usr/local/lib/python3.10/dist-packages (from google-auth<3,>=1.6.3->tensorboard>=2.4.1->-r /content/tph-yolov5/requirements.txt (line 16)) (0.3.0)\n",
            "Requirement already satisfied: rsa<5,>=3.1.4 in /usr/local/lib/python3.10/dist-packages (from google-auth<3,>=1.6.3->tensorboard>=2.4.1->-r /content/tph-yolov5/requirements.txt (line 16)) (4.9)\n",
            "Requirement already satisfied: requests-oauthlib>=0.7.0 in /usr/local/lib/python3.10/dist-packages (from google-auth-oauthlib<1.1,>=0.5->tensorboard>=2.4.1->-r /content/tph-yolov5/requirements.txt (line 16)) (1.3.1)\n",
            "Requirement already satisfied: scikit-learn>=0.19.1 in /usr/local/lib/python3.10/dist-packages (from qudida>=0.0.4->albumentations>=1.0.3->-r /content/tph-yolov5/requirements.txt (line 32)) (1.2.2)\n",
            "Requirement already satisfied: imageio>=2.4.1 in /usr/local/lib/python3.10/dist-packages (from scikit-image>=0.16.1->albumentations>=1.0.3->-r /content/tph-yolov5/requirements.txt (line 32)) (2.25.1)\n",
            "Requirement already satisfied: tifffile>=2019.7.26 in /usr/local/lib/python3.10/dist-packages (from scikit-image>=0.16.1->albumentations>=1.0.3->-r /content/tph-yolov5/requirements.txt (line 32)) (2023.4.12)\n",
            "Requirement already satisfied: PyWavelets>=1.1.1 in /usr/local/lib/python3.10/dist-packages (from scikit-image>=0.16.1->albumentations>=1.0.3->-r /content/tph-yolov5/requirements.txt (line 32)) (1.4.1)\n",
            "Requirement already satisfied: MarkupSafe>=2.1.1 in /usr/local/lib/python3.10/dist-packages (from werkzeug>=1.0.1->tensorboard>=2.4.1->-r /content/tph-yolov5/requirements.txt (line 16)) (2.1.2)\n",
            "Requirement already satisfied: llvmlite<0.40,>=0.39.0dev0 in /usr/local/lib/python3.10/dist-packages (from numba->ensemble_boxes->-r /content/tph-yolov5/requirements.txt (line 37)) (0.39.1)\n",
            "Requirement already satisfied: mpmath>=0.19 in /usr/local/lib/python3.10/dist-packages (from sympy->torch>=1.7.0->-r /content/tph-yolov5/requirements.txt (line 11)) (1.3.0)\n",
            "Requirement already satisfied: smmap<6,>=3.0.1 in /usr/local/lib/python3.10/dist-packages (from gitdb<5,>=4.0.1->GitPython!=3.1.29,>=1.0.0->wandb->-r /content/tph-yolov5/requirements.txt (line 17)) (5.0.0)\n",
            "Requirement already satisfied: pyasn1<0.6.0,>=0.4.6 in /usr/local/lib/python3.10/dist-packages (from pyasn1-modules>=0.2.1->google-auth<3,>=1.6.3->tensorboard>=2.4.1->-r /content/tph-yolov5/requirements.txt (line 16)) (0.5.0)\n",
            "Requirement already satisfied: oauthlib>=3.0.0 in /usr/local/lib/python3.10/dist-packages (from requests-oauthlib>=0.7.0->google-auth-oauthlib<1.1,>=0.5->tensorboard>=2.4.1->-r /content/tph-yolov5/requirements.txt (line 16)) (3.2.2)\n",
            "Requirement already satisfied: joblib>=1.1.1 in /usr/local/lib/python3.10/dist-packages (from scikit-learn>=0.19.1->qudida>=0.0.4->albumentations>=1.0.3->-r /content/tph-yolov5/requirements.txt (line 32)) (1.2.0)\n",
            "Requirement already satisfied: threadpoolctl>=2.0.0 in /usr/local/lib/python3.10/dist-packages (from scikit-learn>=0.19.1->qudida>=0.0.4->albumentations>=1.0.3->-r /content/tph-yolov5/requirements.txt (line 32)) (3.1.0)\n"
          ]
        }
      ],
      "source": [
        "!pip install -r /content/tph-yolov5/requirements.txt"
      ]
    },
    {
      "cell_type": "code",
      "execution_count": null,
      "metadata": {
        "colab": {
          "base_uri": "https://localhost:8080/"
        },
        "id": "Gt0rIOv7OJLZ",
        "outputId": "25deb2d3-9c43-4ccb-f823-91c04afbd7eb"
      },
      "outputs": [
        {
          "output_type": "stream",
          "name": "stdout",
          "text": [
            "Mounted at /content/drive\n"
          ]
        }
      ],
      "source": [
        "from google.colab import drive\n",
        "drive.mount('/content/drive')"
      ]
    },
    {
      "cell_type": "code",
      "source": [
        "!pip install --upgrade pip\n"
      ],
      "metadata": {
        "colab": {
          "base_uri": "https://localhost:8080/"
        },
        "id": "g9WxBOa4JRUH",
        "outputId": "e6f42e1b-8f9c-402a-fd68-e1e9bc6c20c2"
      },
      "execution_count": null,
      "outputs": [
        {
          "output_type": "stream",
          "name": "stdout",
          "text": [
            "Looking in indexes: https://pypi.org/simple, https://us-python.pkg.dev/colab-wheels/public/simple/\n",
            "Requirement already satisfied: pip in /usr/local/lib/python3.10/dist-packages (23.1.2)\n"
          ]
        }
      ]
    },
    {
      "cell_type": "code",
      "execution_count": null,
      "metadata": {
        "colab": {
          "base_uri": "https://localhost:8080/"
        },
        "id": "91-Qjuc9B42H",
        "outputId": "ba295500-cf70-42a1-bf37-43590bed71c8"
      },
      "outputs": [
        {
          "output_type": "stream",
          "name": "stdout",
          "text": [
            "548\n"
          ]
        }
      ],
      "source": [
        "!python /content/tph-yolov5/VisDrone2YOLO_lable.py"
      ]
    },
    {
      "cell_type": "code",
      "source": [
        "!python /content/tph-yolov5/val.py --weights /content/drive/MyDrive/VisDrone/yolov5l-xs-2.pt --img 1996 --data /content/tph-yolov5/data/VisDrone.yaml --augment --save-txt  --save-conf --task val --batch-size 8 --verbose --name v5l-xs"
      ],
      "metadata": {
        "colab": {
          "base_uri": "https://localhost:8080/"
        },
        "id": "CcApb-bm6oUV",
        "outputId": "4510e641-4189-4377-f5ca-39a443d64ae0"
      },
      "execution_count": null,
      "outputs": [
        {
          "output_type": "stream",
          "name": "stdout",
          "text": [
            "Downloading https://ultralytics.com/assets/Arial.ttf to /root/.config/Ultralytics/Arial.ttf...\n",
            "\u001b[34m\u001b[1mval: \u001b[0mdata=/content/tph-yolov5/data/VisDrone.yaml, weights=['/content/drive/MyDrive/VisDrone/yolov5l-xs-2.pt'], batch_size=8, imgsz=1996, conf_thres=0.001, iou_thres=0.6, task=val, device=, single_cls=False, augment=True, verbose=True, save_txt=True, save_hybrid=False, save_conf=True, save_json=False, project=tph-yolov5/runs/val, name=v5l-xs, exist_ok=False, half=False\n",
            "YOLOv5 🚀 052dfeb torch 2.0.0+cu118 CUDA:0 (Tesla T4, 15102MiB)\n",
            "\n",
            "Fusing layers... \n",
            "Model Summary: 589 layers, 68030516 parameters, 0 gradients\n",
            "WARNING: --img-size 1996 must be multiple of max stride 32, updating to 2016\n",
            "\n",
            "WARNING: Dataset not found, nonexistent paths: ['/datasets/VisDrone/VisDrone2019-DET-val/images']\n",
            "Downloading https://github.com/ultralytics/yolov5/releases/download/v1.0/VisDrone2019-DET-train.zip to ../datasets/VisDrone/VisDrone2019-DET-train.zip...\n",
            "100% 1.44G/1.44G [00:49<00:00, 31.5MB/s]\n",
            "Unzipping ../datasets/VisDrone/VisDrone2019-DET-train.zip...\n",
            "Downloading https://github.com/ultralytics/yolov5/releases/download/v1.0/VisDrone2019-DET-val.zip to ../datasets/VisDrone/VisDrone2019-DET-val.zip...\n",
            "100% 77.9M/77.9M [00:04<00:00, 19.4MB/s]\n",
            "Unzipping ../datasets/VisDrone/VisDrone2019-DET-val.zip...\n",
            "Downloading https://github.com/ultralytics/yolov5/releases/download/v1.0/VisDrone2019-DET-test-dev.zip to ../datasets/VisDrone/VisDrone2019-DET-test-dev.zip...\n",
            "100% 297M/297M [00:14<00:00, 21.8MB/s]\n",
            "Unzipping ../datasets/VisDrone/VisDrone2019-DET-test-dev.zip...\n",
            "Downloading https://github.com/ultralytics/yolov5/releases/download/v1.0/VisDrone2019-DET-test-challenge.zip to ../datasets/VisDrone/VisDrone2019-DET-test-challenge.zip...\n",
            "100% 292M/292M [00:13<00:00, 22.2MB/s]\n",
            "Unzipping ../datasets/VisDrone/VisDrone2019-DET-test-challenge.zip...\n",
            "Converting ../datasets/VisDrone/VisDrone2019-DET-train: 6471it [00:37, 174.20it/s]\n",
            "Converting ../datasets/VisDrone/VisDrone2019-DET-val: 548it [00:04, 130.51it/s]\n",
            "Converting ../datasets/VisDrone/VisDrone2019-DET-test-dev: 1610it [00:08, 193.88it/s]\n",
            "Dataset autodownload success, saved to ../datasets\n",
            "\n",
            "Traceback (most recent call last):\n",
            "  File \"/content/tph-yolov5/val.py\", line 359, in <module>\n",
            "    main(opt)\n",
            "  File \"/content/tph-yolov5/val.py\", line 333, in main\n",
            "    run(**vars(opt))\n",
            "  File \"/usr/local/lib/python3.10/dist-packages/torch/utils/_contextlib.py\", line 115, in decorate_context\n",
            "    return func(*args, **kwargs)\n",
            "  File \"/content/tph-yolov5/val.py\", line 149, in run\n",
            "    model(torch.zeros(1, 3, imgsz, imgsz).to(device).type_as(next(model.parameters())))  # run once\n",
            "  File \"/usr/local/lib/python3.10/dist-packages/torch/nn/modules/module.py\", line 1501, in _call_impl\n",
            "    return forward_call(*args, **kwargs)\n",
            "  File \"/content/tph-yolov5/models/yolo.py\", line 249, in forward\n",
            "    return self._forward_once(x, profile, visualize)  # single-scale inference, train\n",
            "  File \"/content/tph-yolov5/models/yolo.py\", line 272, in _forward_once\n",
            "    x = m(x)  # run\n",
            "  File \"/usr/local/lib/python3.10/dist-packages/torch/nn/modules/module.py\", line 1501, in _call_impl\n",
            "    return forward_call(*args, **kwargs)\n",
            "  File \"/usr/local/lib/python3.10/dist-packages/torch/nn/modules/upsampling.py\", line 157, in forward\n",
            "    recompute_scale_factor=self.recompute_scale_factor)\n",
            "  File \"/usr/local/lib/python3.10/dist-packages/torch/nn/modules/module.py\", line 1614, in __getattr__\n",
            "    raise AttributeError(\"'{}' object has no attribute '{}'\".format(\n",
            "AttributeError: 'Upsample' object has no attribute 'recompute_scale_factor'\n"
          ]
        }
      ]
    },
    {
      "cell_type": "code",
      "source": [
        "!pip install \"torch==1.7.0\" -f https://download.pytorch.org/whl/torch_stable.html\n",
        "!pip install \"torchvision==0.8.1\" -f https://download.pytorch.org/whl/torch_stable.html"
      ],
      "metadata": {
        "colab": {
          "base_uri": "https://localhost:8080/"
        },
        "id": "u5sxrjxOOJqT",
        "outputId": "1b259db9-85cd-4df0-cf2b-319b59340277"
      },
      "execution_count": null,
      "outputs": [
        {
          "output_type": "stream",
          "name": "stdout",
          "text": [
            "Looking in indexes: https://pypi.org/simple, https://us-python.pkg.dev/colab-wheels/public/simple/\n",
            "Looking in links: https://download.pytorch.org/whl/torch_stable.html\n",
            "\u001b[31mERROR: Could not find a version that satisfies the requirement torch==1.7.0 (from versions: 1.11.0, 1.11.0+cpu, 1.11.0+cu102, 1.11.0+cu113, 1.11.0+cu115, 1.11.0+rocm4.3.1, 1.11.0+rocm4.5.2, 1.12.0, 1.12.0+cpu, 1.12.0+cu102, 1.12.0+cu113, 1.12.0+cu116, 1.12.0+rocm5.0, 1.12.0+rocm5.1.1, 1.12.1, 1.12.1+cpu, 1.12.1+cu102, 1.12.1+cu113, 1.12.1+cu116, 1.12.1+rocm5.0, 1.12.1+rocm5.1.1, 1.13.0, 1.13.0+cpu, 1.13.0+cu116, 1.13.0+cu117, 1.13.0+cu117.with.pypi.cudnn, 1.13.0+rocm5.1.1, 1.13.0+rocm5.2, 1.13.1, 1.13.1+cpu, 1.13.1+cu116, 1.13.1+cu117, 1.13.1+cu117.with.pypi.cudnn, 1.13.1+rocm5.1.1, 1.13.1+rocm5.2, 2.0.0, 2.0.0+cpu, 2.0.0+cpu.cxx11.abi, 2.0.0+cu117, 2.0.0+cu117.with.pypi.cudnn, 2.0.0+cu118, 2.0.0+rocm5.3, 2.0.0+rocm5.4.2, 2.0.1, 2.0.1+cpu, 2.0.1+cpu.cxx11.abi, 2.0.1+cu117, 2.0.1+cu117.with.pypi.cudnn, 2.0.1+cu118, 2.0.1+rocm5.3, 2.0.1+rocm5.4.2)\u001b[0m\u001b[31m\n",
            "\u001b[0m\u001b[31mERROR: No matching distribution found for torch==1.7.0\u001b[0m\u001b[31m\n",
            "\u001b[0mLooking in indexes: https://pypi.org/simple, https://us-python.pkg.dev/colab-wheels/public/simple/\n",
            "Looking in links: https://download.pytorch.org/whl/torch_stable.html\n",
            "\u001b[31mERROR: Could not find a version that satisfies the requirement torchvision==0.8.1 (from versions: 0.1.6, 0.1.7, 0.1.8, 0.1.9, 0.2.0, 0.2.1, 0.2.2, 0.2.2.post2, 0.2.2.post3, 0.12.0, 0.12.0+cpu, 0.12.0+cu102, 0.12.0+cu113, 0.12.0+cu115, 0.12.0+rocm4.3.1, 0.12.0+rocm4.5.2, 0.13.0, 0.13.0+cpu, 0.13.0+cu102, 0.13.0+cu113, 0.13.0+cu116, 0.13.0+rocm5.0, 0.13.0+rocm5.1.1, 0.13.1, 0.13.1+cpu, 0.13.1+cu102, 0.13.1+cu113, 0.13.1+cu116, 0.13.1+rocm5.0, 0.13.1+rocm5.1.1, 0.14.0, 0.14.0+cpu, 0.14.0+cu116, 0.14.0+cu117, 0.14.0+rocm5.1.1, 0.14.0+rocm5.2, 0.14.1, 0.14.1+cpu, 0.14.1+cu116, 0.14.1+cu117, 0.14.1+rocm5.1.1, 0.14.1+rocm5.2, 0.15.0, 0.15.0+cpu, 0.15.0+cu117, 0.15.0+cu118, 0.15.0+rocm5.3, 0.15.0+rocm5.4.2, 0.15.1, 0.15.1+cpu, 0.15.1+cu117, 0.15.1+cu118, 0.15.1+rocm5.3, 0.15.1+rocm5.4.2, 0.15.2, 0.15.2+cpu, 0.15.2+cu117, 0.15.2+cu118, 0.15.2+rocm5.3, 0.15.2+rocm5.4.2)\u001b[0m\u001b[31m\n",
            "\u001b[0m\u001b[31mERROR: No matching distribution found for torchvision==0.8.1\u001b[0m\u001b[31m\n",
            "\u001b[0m"
          ]
        }
      ]
    },
    {
      "cell_type": "code",
      "execution_count": null,
      "metadata": {
        "id": "SgnpkfPXfRvk",
        "colab": {
          "base_uri": "https://localhost:8080/"
        },
        "outputId": "64e51440-7cfd-408f-84f8-694d743b4de2"
      },
      "outputs": [
        {
          "output_type": "stream",
          "name": "stdout",
          "text": [
            "W&B disabled.\n",
            "2023-05-08 16:41:49.611652: I tensorflow/core/platform/cpu_feature_guard.cc:182] This TensorFlow binary is optimized to use available CPU instructions in performance-critical operations.\n",
            "To enable the following instructions: AVX2 FMA, in other operations, rebuild TensorFlow with the appropriate compiler flags.\n",
            "2023-05-08 16:41:52.188072: W tensorflow/compiler/tf2tensorrt/utils/py_utils.cc:38] TF-TRT Warning: Could not find TensorRT\n",
            "\u001b[34m\u001b[1mtrain: \u001b[0mweights=yolov5l.pt, cfg=/content/tph-yolov5/models/yolov5l-xs-tph.yaml, data=/content/tph-yolov5/data/VisDrone.yaml, hyp=/content/tph-yolov5/data/hyps/hyp.VisDrone.yaml, epochs=80, batch_size=3, imgsz=1536, rect=False, resume=False, nosave=False, noval=False, noautoanchor=False, evolve=None, bucket=, cache=None, image_weights=False, device=, multi_scale=False, single_cls=False, adam=True, sync_bn=False, workers=8, project=tph-yolov5/runs/train, name=v5l-xs-tph, exist_ok=False, quad=False, linear_lr=False, label_smoothing=0.0, patience=100, freeze=0, save_period=-1, local_rank=-1, entity=None, upload_dataset=False, bbox_interval=-1, artifact_alias=latest\n",
            "fatal: ambiguous argument 'main..origin/master': unknown revision or path not in the working tree.\n",
            "Use '--' to separate paths from revisions, like this:\n",
            "'git <command> [<revision>...] -- [<file>...]'\n",
            "\u001b[34m\u001b[1mgithub: \u001b[0mCommand 'git rev-list main..origin/master --count' returned non-zero exit status 128.\n",
            "YOLOv5 🚀 052dfeb torch 2.0.0+cu118 CPU\n",
            "\n",
            "\u001b[34m\u001b[1mhyperparameters: \u001b[0mlr0=0.0032, lrf=0.12, momentum=0.843, weight_decay=0.00036, warmup_epochs=2.0, warmup_momentum=0.5, warmup_bias_lr=0.05, box=0.07, cls=0.18, cls_pw=0.631, obj=0.15, obj_pw=0.911, iou_t=0.2, anchor_t=3, fl_gamma=0.0, hsv_h=0.4, hsv_s=0.3, hsv_v=0.5, degrees=0.2, translate=0.0, scale=0.4, shear=0.0, perspective=0.0, flipud=0.0, fliplr=0.5, mosaic=1.0, mixup=0.2, copy_paste=0.0\n",
            "\u001b[34m\u001b[1mTensorBoard: \u001b[0mStart with 'tensorboard --logdir tph-yolov5/runs/train', view at http://localhost:6006/\n",
            "Overriding model.yaml nc=80 with nc=10\n",
            "\n",
            "                 from  n    params  module                                  arguments                     \n",
            "  0                -1  1      7040  models.common.Conv                      [3, 64, 6, 2, 2]              \n",
            "  1                -1  1     73984  models.common.Conv                      [64, 128, 3, 2]               \n",
            "  2                -1  3    156928  models.common.C3                        [128, 128, 3]                 \n",
            "  3                -1  1    295424  models.common.Conv                      [128, 256, 3, 2]              \n",
            "  4                -1  6   1118208  models.common.C3                        [256, 256, 6]                 \n",
            "  5                -1  1   1180672  models.common.Conv                      [256, 512, 3, 2]              \n",
            "  6                -1  9   6433792  models.common.C3                        [512, 512, 9]                 \n",
            "  7                -1  1   4720640  models.common.Conv                      [512, 1024, 3, 2]             \n",
            "  8                -1  3   9971712  models.common.C3                        [1024, 1024, 3]               \n",
            "  9                -1  1   2624512  models.common.SPPF                      [1024, 1024, 5]               \n",
            " 10                -1  1    525312  models.common.Conv                      [1024, 512, 1, 1]             \n",
            " 11                -1  1         0  torch.nn.modules.upsampling.Upsample    [None, 2, 'nearest']          \n",
            " 12           [-1, 6]  1         0  models.common.Concat                    [1]                           \n",
            " 13                -1  3   2757632  models.common.C3                        [1024, 512, 3, False]         \n",
            " 14                -1  1    131584  models.common.Conv                      [512, 256, 1, 1]              \n",
            " 15                -1  1         0  torch.nn.modules.upsampling.Upsample    [None, 2, 'nearest']          \n",
            " 16           [-1, 4]  1         0  models.common.Concat                    [1]                           \n",
            " 17                -1  3    690688  models.common.C3                        [512, 256, 3, False]          \n",
            " 18                -1  1     33024  models.common.Conv                      [256, 128, 1, 1]              \n",
            " 19                -1  1         0  torch.nn.modules.upsampling.Upsample    [None, 2, 'nearest']          \n",
            " 20           [-1, 2]  1         0  models.common.Concat                    [1]                           \n",
            " 21                -1  2    150148  models.common.C3STR                     [256, 128, 2, False]          \n",
            " 22                -1  1    147712  models.common.Conv                      [128, 128, 3, 2]              \n",
            " 23       [-1, 18, 4]  1         0  models.common.Concat                    [1]                           \n",
            " 24                -1  2    595208  models.common.C3STR                     [512, 256, 2, False]          \n",
            " 25                -1  1    590336  models.common.Conv                      [256, 256, 3, 2]              \n",
            " 26       [-1, 14, 6]  1         0  models.common.Concat                    [1]                           \n",
            " 27                -1  2   2370064  models.common.C3STR                     [1024, 512, 2, False]         \n",
            " 28                -1  1   2360320  models.common.Conv                      [512, 512, 3, 2]              \n",
            " 29          [-1, 10]  1         0  models.common.Concat                    [1]                           \n",
            " 30                -1  2   8410144  models.common.C3STR                     [1024, 1024, 2, False]        \n",
            " 31  [21, 24, 27, 30]  1    115440  models.yolo.Detect                      [10, [[0, 1, 2, 3, 4, 5, 6, 7], [0, 1, 2, 3, 4, 5, 6, 7], [0, 1, 2, 3, 4, 5, 6, 7], [0, 1, 2, 3, 4, 5, 6, 7]], [128, 256, 512, 1024]]\n",
            "Model Summary: 586 layers, 45460524 parameters, 45460524 gradients, 261.2 GFLOPs\n",
            "\n",
            "Transferred 487/695 items from yolov5l.pt\n",
            "Scaled weight_decay = 0.00035437500000000004\n",
            "\u001b[34m\u001b[1moptimizer:\u001b[0m Adam with parameter groups 97 weight, 149 weight (no decay), 141 bias\n",
            "\u001b[34m\u001b[1malbumentations: \u001b[0mBlur(always_apply=False, p=0.01, blur_limit=(3, 7)), MedianBlur(always_apply=False, p=0.3, blur_limit=(3, 7)), ToGray(always_apply=False, p=0.01), CLAHE(always_apply=False, p=0.3, clip_limit=(1, 4.0), tile_grid_size=(8, 8)), RandomBrightnessContrast(always_apply=False, p=0.3, brightness_limit=(-0.2, 0.2), contrast_limit=(-0.2, 0.2), brightness_by_max=True)\n",
            "\u001b[34m\u001b[1mtrain: \u001b[0mScanning '../datasets/VisDrone/VisDrone2019-DET-train/labels.cache' images and labels... 6471 found, 0 missing, 0 empty, 0 corrupted: 100% 6471/6471 [00:00<?, ?it/s]\n",
            "\u001b[34m\u001b[1mtrain: \u001b[0mWARNING: ../datasets/VisDrone/VisDrone2019-DET-train/images/0000137_02220_d_0000163.jpg: 1 duplicate labels removed\n",
            "\u001b[34m\u001b[1mtrain: \u001b[0mWARNING: ../datasets/VisDrone/VisDrone2019-DET-train/images/0000140_00118_d_0000002.jpg: 1 duplicate labels removed\n",
            "\u001b[34m\u001b[1mtrain: \u001b[0mWARNING: ../datasets/VisDrone/VisDrone2019-DET-train/images/9999945_00000_d_0000114.jpg: 1 duplicate labels removed\n",
            "\u001b[34m\u001b[1mtrain: \u001b[0mWARNING: ../datasets/VisDrone/VisDrone2019-DET-train/images/9999987_00000_d_0000049.jpg: 1 duplicate labels removed\n",
            "\u001b[34m\u001b[1mval: \u001b[0mScanning '../datasets/VisDrone/VisDrone2019-DET-val/labels.cache' images and labels... 548 found, 0 missing, 0 empty, 0 corrupted: 100% 548/548 [00:00<?, ?it/s]\n",
            "Plotting labels... \n",
            "\n",
            "\u001b[34m\u001b[1mautoanchor: \u001b[0mAnalyzing anchors... anchors/target = 1.47, Best Possible Recall (BPR) = 0.2342. Attempting to improve anchors, please wait...\n",
            "\u001b[34m\u001b[1mautoanchor: \u001b[0mWARNING: Extremely small objects found. 625 of 343201 labels are < 3 pixels in size.\n",
            "\u001b[34m\u001b[1mautoanchor: \u001b[0mRunning kmeans for 16 anchors on 343201 points...\n",
            "\u001b[34m\u001b[1mautoanchor: \u001b[0mthr=0.33: 0.9970 best possible recall, 6.91 anchors past thr\n",
            "\u001b[34m\u001b[1mautoanchor: \u001b[0mn=16, img_size=1536, metric_all=0.329/0.783-mean/best, past_thr=0.535-mean: 8,10,  11,20,  22,15,  18,30,  37,21,  23,46,  40,40,  61,31,  37,69,  65,64,  94,47,  71,107,  135,79,  119,170,  223,119,  256,260\n",
            "\u001b[34m\u001b[1mautoanchor: \u001b[0mEvolving anchors with Genetic Algorithm: fitness = 0.7943: 100% 1000/1000 [04:43<00:00,  3.53it/s]\n",
            "\u001b[34m\u001b[1mautoanchor: \u001b[0mthr=0.33: 0.9990 best possible recall, 7.16 anchors past thr\n",
            "\u001b[34m\u001b[1mautoanchor: \u001b[0mn=16, img_size=1536, metric_all=0.337/0.795-mean/best, past_thr=0.537-mean: 7,9,  9,19,  15,13,  16,23,  31,16,  18,38,  29,29,  53,25,  34,54,  57,45,  94,45,  63,82,  114,72,  101,131,  203,109,  234,272\n",
            "\u001b[34m\u001b[1mautoanchor: \u001b[0mNew anchors saved to model. Update model *.yaml to use these anchors in the future.\n",
            "\n",
            "Image sizes 1536 train, 1536 val\n",
            "Using 2 dataloader workers\n",
            "Logging results to \u001b[1mtph-yolov5/runs/train/v5l-xs-tph2\u001b[0m\n",
            "Starting training for 80 epochs...\n",
            "\n",
            "     Epoch   gpu_mem       box       obj       cls    labels  img_size\n",
            "  0% 0/2157 [00:00<?, ?it/s]^C\n"
          ]
        }
      ],
      "source": [
        "!wandb disabled\n",
        "!python /content/tph-yolov5/train.py --img 1536 --adam --batch 3 --epochs 80 --data /content/tph-yolov5/data/VisDrone.yaml --weights yolov5l.pt --hy /content/tph-yolov5/data/hyps/hyp.VisDrone.yaml --cfg /content/tph-yolov5/models/yolov5l-xs-tph.yaml --name v5l-xs-tph\n",
        "#!python /content/tph-yolov5/train.py --img 1536 --adam --batch 3 --epochs 80 --data /content/tph-yolov5/data/VisDrone.yaml --weights yolov5l.pt --hy /content/tph-yolov5/data/hyps/hyp.VisDrone.yaml --cfg /content/tph-yolov5/models/yolov5l-tph-plus.yaml --name v5l-tph-plus"
      ]
    },
    {
      "cell_type": "code",
      "source": [],
      "metadata": {
        "id": "v1T8qBa6SH-8"
      },
      "execution_count": null,
      "outputs": []
    }
  ],
  "metadata": {
    "colab": {
      "provenance": [],
      "gpuType": "T4",
      "authorship_tag": "ABX9TyNRYS+ZbgkkCQVA0DEWLSpp",
      "include_colab_link": true
    },
    "gpuClass": "standard",
    "kernelspec": {
      "display_name": "Python 3",
      "name": "python3"
    },
    "language_info": {
      "name": "python"
    },
    "accelerator": "GPU"
  },
  "nbformat": 4,
  "nbformat_minor": 0
}