{
  "cells": [
    {
      "cell_type": "markdown",
      "metadata": {
        "id": "view-in-github",
        "colab_type": "text"
      },
      "source": [
        "<a href=\"https://colab.research.google.com/github/youcef-4/VisDrone/blob/main/tph_yolov5_on_VisDrone.ipynb\" target=\"_parent\"><img src=\"https://colab.research.google.com/assets/colab-badge.svg\" alt=\"Open In Colab\"/></a>"
      ]
    },
    {
      "cell_type": "code",
      "execution_count": null,
      "metadata": {
        "colab": {
          "base_uri": "https://localhost:8080/"
        },
        "id": "WisVcNYqBTfI",
        "outputId": "3e62ccae-dcf6-4286-b118-4b1db9cbe271"
      },
      "outputs": [
        {
          "output_type": "stream",
          "name": "stdout",
          "text": [
            "Cloning into 'VisDrone'...\n",
            "remote: Enumerating objects: 255, done.\u001b[K\n",
            "remote: Counting objects: 100% (255/255), done.\u001b[K\n",
            "remote: Compressing objects: 100% (139/139), done.\u001b[K\n",
            "remote: Total 255 (delta 117), reused 244 (delta 112), pack-reused 0\u001b[K\n",
            "Receiving objects: 100% (255/255), 9.27 MiB | 7.17 MiB/s, done.\n",
            "Resolving deltas: 100% (117/117), done.\n"
          ]
        }
      ],
      "source": [
        "!git clone https://github.com/youcef-4/VisDrone.git"
      ]
    },
    {
      "cell_type": "code",
      "source": [],
      "metadata": {
        "id": "G_-zim4yjRUA"
      },
      "execution_count": null,
      "outputs": []
    },
    {
      "cell_type": "code",
      "execution_count": null,
      "metadata": {
        "id": "le1LDtGuBhaI",
        "colab": {
          "base_uri": "https://localhost:8080/"
        },
        "outputId": "84d42dff-5edc-453c-b9db-db7f08109a9a"
      },
      "outputs": [
        {
          "output_type": "stream",
          "name": "stdout",
          "text": [
            "/bin/bash: line 0: cd: tph-yolov5: No such file or directory\n"
          ]
        }
      ],
      "source": [
        "!cd tph-yolov5\n"
      ]
    },
    {
      "cell_type": "code",
      "execution_count": 99,
      "metadata": {
        "id": "SMsZxyBtBxn6",
        "colab": {
          "base_uri": "https://localhost:8080/",
          "height": 1000
        },
        "outputId": "729821dc-ef61-4056-8f0b-17d70c617356"
      },
      "outputs": [
        {
          "output_type": "stream",
          "name": "stdout",
          "text": [
            "Looking in indexes: https://pypi.org/simple, https://us-python.pkg.dev/colab-wheels/public/simple/\n",
            "Requirement already satisfied: numpy>=1.18.5 in /usr/local/lib/python3.9/site-packages (from -r /content/VisDrone/requirements.txt (line 5)) (1.24.3)\n",
            "Requirement already satisfied: opencv-python>=4.1.2 in /usr/local/lib/python3.9/site-packages (from -r /content/VisDrone/requirements.txt (line 6)) (4.7.0.72)\n",
            "Requirement already satisfied: Pillow>=7.1.2 in /usr/local/lib/python3.9/site-packages (from -r /content/VisDrone/requirements.txt (line 7)) (9.5.0)\n",
            "Requirement already satisfied: PyYAML>=5.3.1 in /usr/local/lib/python3.9/site-packages (from -r /content/VisDrone/requirements.txt (line 8)) (6.0)\n",
            "Requirement already satisfied: requests>=2.23.0 in /usr/local/lib/python3.9/site-packages (from -r /content/VisDrone/requirements.txt (line 9)) (2.30.0)\n",
            "Requirement already satisfied: scipy>=1.4.1 in /usr/local/lib/python3.9/site-packages (from -r /content/VisDrone/requirements.txt (line 10)) (1.10.1)\n",
            "Requirement already satisfied: torch>=1.7.0 in /usr/local/lib/python3.9/site-packages (from -r /content/VisDrone/requirements.txt (line 11)) (2.0.0+cu118)\n",
            "Requirement already satisfied: torchvision>=0.8.1 in /usr/local/lib/python3.9/site-packages (from -r /content/VisDrone/requirements.txt (line 12)) (0.15.1+cu118)\n",
            "Requirement already satisfied: tqdm>=4.41.0 in /usr/local/lib/python3.9/site-packages (from -r /content/VisDrone/requirements.txt (line 13)) (4.65.0)\n",
            "Requirement already satisfied: pandas>=1.1.4 in /usr/local/lib/python3.9/site-packages (from -r /content/VisDrone/requirements.txt (line 20)) (1.2.3)\n",
            "Collecting albumentations>=1.0.3\n",
            "  Downloading albumentations-1.3.0-py3-none-any.whl (123 kB)\n",
            "\u001b[K     |████████████████████████████████| 123 kB 4.8 MB/s \n",
            "\u001b[?25hRequirement already satisfied: scipy>=1.4.1 in /usr/local/lib/python3.9/site-packages (from -r /content/VisDrone/requirements.txt (line 10)) (1.10.1)\n",
            "Requirement already satisfied: PyYAML>=5.3.1 in /usr/local/lib/python3.9/site-packages (from -r /content/VisDrone/requirements.txt (line 8)) (6.0)\n",
            "Requirement already satisfied: numpy>=1.18.5 in /usr/local/lib/python3.9/site-packages (from -r /content/VisDrone/requirements.txt (line 5)) (1.24.3)\n",
            "Collecting ensemble_boxes\n",
            "  Using cached ensemble_boxes-1.0.9-py3-none-any.whl (23 kB)\n",
            "Requirement already satisfied: numba in /usr/local/lib/python3.9/site-packages (from ensemble_boxes->-r /content/VisDrone/requirements.txt (line 37)) (0.57.0)\n",
            "Requirement already satisfied: numpy>=1.18.5 in /usr/local/lib/python3.9/site-packages (from -r /content/VisDrone/requirements.txt (line 5)) (1.24.3)\n",
            "Requirement already satisfied: pandas>=1.1.4 in /usr/local/lib/python3.9/site-packages (from -r /content/VisDrone/requirements.txt (line 20)) (1.2.3)\n",
            "Collecting matplotlib>=3.2.2\n",
            "  Downloading matplotlib-3.7.1-cp39-cp39-manylinux_2_17_x86_64.manylinux2014_x86_64.whl (11.6 MB)\n",
            "\u001b[K     |████████████████████████████████| 11.6 MB 45.0 MB/s \n",
            "\u001b[?25hRequirement already satisfied: numpy>=1.18.5 in /usr/local/lib/python3.9/site-packages (from -r /content/VisDrone/requirements.txt (line 5)) (1.24.3)\n",
            "Requirement already satisfied: packaging>=20.0 in /usr/local/lib/python3.9/site-packages (from matplotlib>=3.2.2->-r /content/VisDrone/requirements.txt (line 4)) (23.0)\n",
            "Requirement already satisfied: Pillow>=7.1.2 in /usr/local/lib/python3.9/site-packages (from -r /content/VisDrone/requirements.txt (line 7)) (9.5.0)\n",
            "Requirement already satisfied: python-dateutil>=2.7 in /usr/local/lib/python3.9/site-packages (from matplotlib>=3.2.2->-r /content/VisDrone/requirements.txt (line 4)) (2.8.2)\n",
            "Requirement already satisfied: numpy>=1.18.5 in /usr/local/lib/python3.9/site-packages (from -r /content/VisDrone/requirements.txt (line 5)) (1.24.3)\n",
            "Requirement already satisfied: numpy>=1.18.5 in /usr/local/lib/python3.9/site-packages (from -r /content/VisDrone/requirements.txt (line 5)) (1.24.3)\n",
            "Requirement already satisfied: numpy>=1.18.5 in /usr/local/lib/python3.9/site-packages (from -r /content/VisDrone/requirements.txt (line 5)) (1.24.3)\n",
            "Requirement already satisfied: python-dateutil>=2.7 in /usr/local/lib/python3.9/site-packages (from matplotlib>=3.2.2->-r /content/VisDrone/requirements.txt (line 4)) (2.8.2)\n",
            "Requirement already satisfied: pytz>=2017.3 in /usr/local/lib/python3.9/site-packages (from pandas>=1.1.4->-r /content/VisDrone/requirements.txt (line 20)) (2022.7)\n",
            "Requirement already satisfied: numpy>=1.18.5 in /usr/local/lib/python3.9/site-packages (from -r /content/VisDrone/requirements.txt (line 5)) (1.24.3)\n",
            "Requirement already satisfied: urllib3<3,>=1.21.1 in /usr/local/lib/python3.9/site-packages (from requests>=2.23.0->-r /content/VisDrone/requirements.txt (line 9)) (2.0.2)\n",
            "Requirement already satisfied: charset-normalizer<4,>=2 in /usr/local/lib/python3.9/site-packages (from requests>=2.23.0->-r /content/VisDrone/requirements.txt (line 9)) (3.1.0)\n",
            "Requirement already satisfied: idna<4,>=2.5 in /usr/local/lib/python3.9/site-packages (from requests>=2.23.0->-r /content/VisDrone/requirements.txt (line 9)) (3.4)\n",
            "Requirement already satisfied: certifi>=2017.4.17 in /usr/local/lib/python3.9/site-packages (from requests>=2.23.0->-r /content/VisDrone/requirements.txt (line 9)) (2023.5.7)\n",
            "Requirement already satisfied: numpy>=1.18.5 in /usr/local/lib/python3.9/site-packages (from -r /content/VisDrone/requirements.txt (line 5)) (1.24.3)\n",
            "Collecting seaborn>=0.11.0\n",
            "  Downloading seaborn-0.12.2-py3-none-any.whl (293 kB)\n",
            "\u001b[K     |████████████████████████████████| 293 kB 117.3 MB/s \n",
            "\u001b[?25hRequirement already satisfied: numpy>=1.18.5 in /usr/local/lib/python3.9/site-packages (from -r /content/VisDrone/requirements.txt (line 5)) (1.24.3)\n",
            "Requirement already satisfied: pandas>=1.1.4 in /usr/local/lib/python3.9/site-packages (from -r /content/VisDrone/requirements.txt (line 20)) (1.2.3)\n",
            "Collecting tensorboard>=2.4.1\n",
            "  Downloading tensorboard-2.13.0-py3-none-any.whl (5.6 MB)\n",
            "\u001b[K     |████████████████████████████████| 5.6 MB 66.2 MB/s \n",
            "\u001b[?25hRequirement already satisfied: setuptools>=41.0.0 in /usr/local/lib/python3.9/site-packages (from tensorboard>=2.4.1->-r /content/VisDrone/requirements.txt (line 16)) (51.0.0.post20201207)\n",
            "Requirement already satisfied: wheel>=0.26 in /usr/local/lib/python3.9/site-packages (from tensorboard>=2.4.1->-r /content/VisDrone/requirements.txt (line 16)) (0.36.1)\n",
            "Requirement already satisfied: requests>=2.23.0 in /usr/local/lib/python3.9/site-packages (from -r /content/VisDrone/requirements.txt (line 9)) (2.30.0)\n",
            "Requirement already satisfied: google-auth<3,>=1.6.3 in /usr/local/lib/python3.9/site-packages (from tensorboard>=2.4.1->-r /content/VisDrone/requirements.txt (line 16)) (2.18.0)\n",
            "Requirement already satisfied: numpy>=1.18.5 in /usr/local/lib/python3.9/site-packages (from -r /content/VisDrone/requirements.txt (line 5)) (1.24.3)\n",
            "Collecting thop\n",
            "  Using cached thop-0.1.1.post2209072238-py3-none-any.whl (15 kB)\n",
            "Requirement already satisfied: torch>=1.7.0 in /usr/local/lib/python3.9/site-packages (from -r /content/VisDrone/requirements.txt (line 11)) (2.0.0+cu118)\n",
            "Requirement already satisfied: typing-extensions in /usr/local/lib/python3.9/site-packages (from torch>=1.7.0->-r /content/VisDrone/requirements.txt (line 11)) (4.5.0)\n",
            "Requirement already satisfied: filelock in /usr/local/lib/python3.9/site-packages (from torch>=1.7.0->-r /content/VisDrone/requirements.txt (line 11)) (3.12.0)\n",
            "Requirement already satisfied: networkx in /usr/local/lib/python3.9/site-packages (from torch>=1.7.0->-r /content/VisDrone/requirements.txt (line 11)) (3.1)\n",
            "Requirement already satisfied: sympy in /usr/local/lib/python3.9/site-packages (from torch>=1.7.0->-r /content/VisDrone/requirements.txt (line 11)) (1.12)\n",
            "Requirement already satisfied: jinja2 in /usr/local/lib/python3.9/site-packages (from torch>=1.7.0->-r /content/VisDrone/requirements.txt (line 11)) (3.1.2)\n",
            "Requirement already satisfied: triton==2.0.0 in /usr/local/lib/python3.9/site-packages (from torch>=1.7.0->-r /content/VisDrone/requirements.txt (line 11)) (2.0.0)\n",
            "Requirement already satisfied: torch>=1.7.0 in /usr/local/lib/python3.9/site-packages (from -r /content/VisDrone/requirements.txt (line 11)) (2.0.0+cu118)\n",
            "Requirement already satisfied: numpy>=1.18.5 in /usr/local/lib/python3.9/site-packages (from -r /content/VisDrone/requirements.txt (line 5)) (1.24.3)\n",
            "Requirement already satisfied: Pillow>=7.1.2 in /usr/local/lib/python3.9/site-packages (from -r /content/VisDrone/requirements.txt (line 7)) (9.5.0)\n",
            "Requirement already satisfied: requests>=2.23.0 in /usr/local/lib/python3.9/site-packages (from -r /content/VisDrone/requirements.txt (line 9)) (2.30.0)\n",
            "Collecting wandb\n",
            "  Using cached wandb-0.15.2-py3-none-any.whl (2.0 MB)\n",
            "Requirement already satisfied: PyYAML>=5.3.1 in /usr/local/lib/python3.9/site-packages (from -r /content/VisDrone/requirements.txt (line 8)) (6.0)\n",
            "Requirement already satisfied: requests>=2.23.0 in /usr/local/lib/python3.9/site-packages (from -r /content/VisDrone/requirements.txt (line 9)) (2.30.0)\n",
            "Requirement already satisfied: psutil>=5.0.0 in /usr/local/lib/python3.9/site-packages (from wandb->-r /content/VisDrone/requirements.txt (line 17)) (5.9.0)\n",
            "Requirement already satisfied: typing-extensions in /usr/local/lib/python3.9/site-packages (from torch>=1.7.0->-r /content/VisDrone/requirements.txt (line 11)) (4.5.0)\n",
            "Requirement already satisfied: setuptools>=41.0.0 in /usr/local/lib/python3.9/site-packages (from tensorboard>=2.4.1->-r /content/VisDrone/requirements.txt (line 16)) (51.0.0.post20201207)\n",
            "Collecting absl-py>=0.4\n",
            "  Downloading absl_py-1.4.0-py3-none-any.whl (126 kB)\n",
            "\u001b[K     |████████████████████████████████| 126 kB 83.2 MB/s \n",
            "\u001b[?25hCollecting appdirs>=1.4.3\n",
            "  Downloading appdirs-1.4.4-py2.py3-none-any.whl (9.6 kB)\n",
            "Collecting Click!=8.0.0,>=7.0\n",
            "  Downloading click-8.1.3-py3-none-any.whl (96 kB)\n",
            "\u001b[K     |████████████████████████████████| 96 kB 7.3 MB/s \n",
            "\u001b[?25hCollecting contourpy>=1.0.1\n",
            "  Downloading contourpy-1.0.7-cp39-cp39-manylinux_2_17_x86_64.manylinux2014_x86_64.whl (299 kB)\n",
            "\u001b[K     |████████████████████████████████| 299 kB 87.2 MB/s \n",
            "\u001b[?25hRequirement already satisfied: numpy>=1.18.5 in /usr/local/lib/python3.9/site-packages (from -r /content/VisDrone/requirements.txt (line 5)) (1.24.3)\n",
            "Collecting cycler>=0.10\n",
            "  Downloading cycler-0.11.0-py3-none-any.whl (6.4 kB)\n",
            "Collecting docker-pycreds>=0.4.0\n",
            "  Using cached docker_pycreds-0.4.0-py2.py3-none-any.whl (9.0 kB)\n",
            "Requirement already satisfied: six>=1.4.0 in /usr/local/lib/python3.9/site-packages (from docker-pycreds>=0.4.0->wandb->-r /content/VisDrone/requirements.txt (line 17)) (1.15.0)\n",
            "Collecting fonttools>=4.22.0\n",
            "  Downloading fonttools-4.39.4-py3-none-any.whl (1.0 MB)\n",
            "\u001b[K     |████████████████████████████████| 1.0 MB 70.4 MB/s \n",
            "\u001b[?25hCollecting GitPython!=3.1.29,>=1.0.0\n",
            "  Using cached GitPython-3.1.31-py3-none-any.whl (184 kB)\n",
            "Collecting gitdb<5,>=4.0.1\n",
            "  Using cached gitdb-4.0.10-py3-none-any.whl (62 kB)\n",
            "Requirement already satisfied: cachetools<6.0,>=2.0.0 in /usr/local/lib/python3.9/site-packages (from google-auth<3,>=1.6.3->tensorboard>=2.4.1->-r /content/VisDrone/requirements.txt (line 16)) (5.3.0)\n",
            "Requirement already satisfied: rsa<5,>=3.1.4 in /usr/local/lib/python3.9/site-packages (from google-auth<3,>=1.6.3->tensorboard>=2.4.1->-r /content/VisDrone/requirements.txt (line 16)) (4.9)\n",
            "Requirement already satisfied: pyasn1-modules>=0.2.1 in /usr/local/lib/python3.9/site-packages (from google-auth<3,>=1.6.3->tensorboard>=2.4.1->-r /content/VisDrone/requirements.txt (line 16)) (0.2.7)\n",
            "Requirement already satisfied: six>=1.4.0 in /usr/local/lib/python3.9/site-packages (from docker-pycreds>=0.4.0->wandb->-r /content/VisDrone/requirements.txt (line 17)) (1.15.0)\n",
            "Collecting google-auth-oauthlib<1.1,>=0.5\n",
            "  Downloading google_auth_oauthlib-1.0.0-py2.py3-none-any.whl (18 kB)\n",
            "Requirement already satisfied: google-auth<3,>=1.6.3 in /usr/local/lib/python3.9/site-packages (from tensorboard>=2.4.1->-r /content/VisDrone/requirements.txt (line 16)) (2.18.0)\n",
            "Collecting grpcio>=1.48.2\n",
            "  Downloading grpcio-1.54.2-cp39-cp39-manylinux_2_17_x86_64.manylinux2014_x86_64.whl (5.1 MB)\n",
            "\u001b[K     |████████████████████████████████| 5.1 MB 58.1 MB/s \n",
            "\u001b[?25hCollecting importlib-resources>=3.2.0\n",
            "  Downloading importlib_resources-5.12.0-py3-none-any.whl (36 kB)\n",
            "Requirement already satisfied: zipp>=3.1.0 in /usr/local/lib/python3.9/site-packages (from importlib-resources>=3.2.0->matplotlib>=3.2.2->-r /content/VisDrone/requirements.txt (line 4)) (3.11.0)\n",
            "Requirement already satisfied: MarkupSafe>=2.0 in /usr/local/lib/python3.9/site-packages (from jinja2->torch>=1.7.0->-r /content/VisDrone/requirements.txt (line 11)) (2.1.2)\n",
            "Collecting kiwisolver>=1.0.1\n",
            "  Downloading kiwisolver-1.4.4-cp39-cp39-manylinux_2_12_x86_64.manylinux2010_x86_64.whl (1.6 MB)\n",
            "\u001b[K     |████████████████████████████████| 1.6 MB 73.6 MB/s \n",
            "\u001b[?25hCollecting markdown>=2.6.8\n",
            "  Downloading Markdown-3.4.3-py3-none-any.whl (93 kB)\n",
            "\u001b[K     |████████████████████████████████| 93 kB 3.3 MB/s \n",
            "\u001b[?25hRequirement already satisfied: importlib-metadata>=4.4 in /usr/local/lib/python3.9/site-packages (from markdown>=2.6.8->tensorboard>=2.4.1->-r /content/VisDrone/requirements.txt (line 16)) (6.0.0)\n",
            "Requirement already satisfied: zipp>=3.1.0 in /usr/local/lib/python3.9/site-packages (from importlib-resources>=3.2.0->matplotlib>=3.2.2->-r /content/VisDrone/requirements.txt (line 4)) (3.11.0)\n",
            "Requirement already satisfied: numpy>=1.18.5 in /usr/local/lib/python3.9/site-packages (from -r /content/VisDrone/requirements.txt (line 5)) (1.24.3)\n",
            "Requirement already satisfied: llvmlite<0.41,>=0.40.0dev0 in /usr/local/lib/python3.9/site-packages (from numba->ensemble_boxes->-r /content/VisDrone/requirements.txt (line 37)) (0.40.0)\n",
            "Collecting opencv-python-headless>=4.1.1\n",
            "  Downloading opencv_python_headless-4.7.0.72-cp37-abi3-manylinux_2_17_x86_64.manylinux2014_x86_64.whl (49.2 MB)\n",
            "\u001b[K     |████████████████████████████████| 49.2 MB 172 kB/s \n",
            "\u001b[?25hRequirement already satisfied: numpy>=1.18.5 in /usr/local/lib/python3.9/site-packages (from -r /content/VisDrone/requirements.txt (line 5)) (1.24.3)\n",
            "Requirement already satisfied: numpy>=1.18.5 in /usr/local/lib/python3.9/site-packages (from -r /content/VisDrone/requirements.txt (line 5)) (1.24.3)\n",
            "Requirement already satisfied: numpy>=1.18.5 in /usr/local/lib/python3.9/site-packages (from -r /content/VisDrone/requirements.txt (line 5)) (1.24.3)\n",
            "Collecting pathtools\n",
            "  Using cached pathtools-0.1.2.tar.gz (11 kB)\n",
            "Collecting protobuf>=3.19.6\n",
            "  Downloading protobuf-4.23.0-cp37-abi3-manylinux2014_x86_64.whl (304 kB)\n",
            "\u001b[K     |████████████████████████████████| 304 kB 71.9 MB/s \n",
            "\u001b[?25hRequirement already satisfied: pyasn1<0.5.0,>=0.4.6 in /usr/local/lib/python3.9/site-packages (from pyasn1-modules>=0.2.1->google-auth<3,>=1.6.3->tensorboard>=2.4.1->-r /content/VisDrone/requirements.txt (line 16)) (0.4.8)\n",
            "Collecting pyparsing>=2.3.1\n",
            "  Downloading pyparsing-3.0.9-py3-none-any.whl (98 kB)\n",
            "\u001b[K     |████████████████████████████████| 98 kB 7.6 MB/s \n",
            "\u001b[?25hRequirement already satisfied: six>=1.4.0 in /usr/local/lib/python3.9/site-packages (from docker-pycreds>=0.4.0->wandb->-r /content/VisDrone/requirements.txt (line 17)) (1.15.0)\n",
            "Collecting qudida>=0.0.4\n",
            "  Downloading qudida-0.0.4-py3-none-any.whl (3.5 kB)\n",
            "Requirement already satisfied: numpy>=1.18.5 in /usr/local/lib/python3.9/site-packages (from -r /content/VisDrone/requirements.txt (line 5)) (1.24.3)\n",
            "Requirement already satisfied: typing-extensions in /usr/local/lib/python3.9/site-packages (from torch>=1.7.0->-r /content/VisDrone/requirements.txt (line 11)) (4.5.0)\n",
            "Collecting requests-oauthlib>=0.7.0\n",
            "  Downloading requests_oauthlib-1.3.1-py2.py3-none-any.whl (23 kB)\n",
            "Requirement already satisfied: requests>=2.23.0 in /usr/local/lib/python3.9/site-packages (from -r /content/VisDrone/requirements.txt (line 9)) (2.30.0)\n",
            "Collecting oauthlib>=3.0.0\n",
            "  Downloading oauthlib-3.2.2-py3-none-any.whl (151 kB)\n",
            "\u001b[K     |████████████████████████████████| 151 kB 84.4 MB/s \n",
            "\u001b[?25hRequirement already satisfied: pyasn1<0.5.0,>=0.4.6 in /usr/local/lib/python3.9/site-packages (from pyasn1-modules>=0.2.1->google-auth<3,>=1.6.3->tensorboard>=2.4.1->-r /content/VisDrone/requirements.txt (line 16)) (0.4.8)\n",
            "Collecting scikit-image>=0.16.1\n",
            "  Downloading scikit_image-0.20.0-cp39-cp39-manylinux_2_17_x86_64.manylinux2014_x86_64.whl (13.2 MB)\n",
            "\u001b[K     |████████████████████████████████| 13.2 MB 75.8 MB/s \n",
            "\u001b[?25hRequirement already satisfied: Pillow>=7.1.2 in /usr/local/lib/python3.9/site-packages (from -r /content/VisDrone/requirements.txt (line 7)) (9.5.0)\n",
            "Requirement already satisfied: networkx in /usr/local/lib/python3.9/site-packages (from torch>=1.7.0->-r /content/VisDrone/requirements.txt (line 11)) (3.1)\n",
            "Requirement already satisfied: numpy>=1.18.5 in /usr/local/lib/python3.9/site-packages (from -r /content/VisDrone/requirements.txt (line 5)) (1.24.3)\n",
            "Requirement already satisfied: packaging>=20.0 in /usr/local/lib/python3.9/site-packages (from matplotlib>=3.2.2->-r /content/VisDrone/requirements.txt (line 4)) (23.0)\n",
            "Collecting scipy>=1.4.1\n",
            "  Downloading scipy-1.9.1-cp39-cp39-manylinux_2_17_x86_64.manylinux2014_x86_64.whl (43.9 MB)\n",
            "\u001b[K     |████████████████████████████████| 43.9 MB 1.2 MB/s \n",
            "\u001b[?25hRequirement already satisfied: numpy>=1.18.5 in /usr/local/lib/python3.9/site-packages (from -r /content/VisDrone/requirements.txt (line 5)) (1.24.3)\n",
            "Collecting imageio>=2.4.1\n",
            "  Downloading imageio-2.28.1-py3-none-any.whl (3.4 MB)\n",
            "\u001b[K     |████████████████████████████████| 3.4 MB 57.6 MB/s \n",
            "\u001b[?25hRequirement already satisfied: numpy>=1.18.5 in /usr/local/lib/python3.9/site-packages (from -r /content/VisDrone/requirements.txt (line 5)) (1.24.3)\n",
            "Requirement already satisfied: Pillow>=7.1.2 in /usr/local/lib/python3.9/site-packages (from -r /content/VisDrone/requirements.txt (line 7)) (9.5.0)\n",
            "Collecting lazy_loader>=0.1\n",
            "  Downloading lazy_loader-0.2-py3-none-any.whl (8.6 kB)\n",
            "Collecting PyWavelets>=1.1.1\n",
            "  Downloading PyWavelets-1.4.1-cp39-cp39-manylinux_2_17_x86_64.manylinux2014_x86_64.whl (6.9 MB)\n",
            "\u001b[K     |████████████████████████████████| 6.9 MB 69.1 MB/s \n",
            "\u001b[?25hRequirement already satisfied: numpy>=1.18.5 in /usr/local/lib/python3.9/site-packages (from -r /content/VisDrone/requirements.txt (line 5)) (1.24.3)\n",
            "Collecting scikit-learn>=0.19.1\n",
            "  Downloading scikit_learn-1.2.2-cp39-cp39-manylinux_2_17_x86_64.manylinux2014_x86_64.whl (9.6 MB)\n",
            "\u001b[K     |████████████████████████████████| 9.6 MB 75.9 MB/s \n",
            "\u001b[?25hRequirement already satisfied: numpy>=1.18.5 in /usr/local/lib/python3.9/site-packages (from -r /content/VisDrone/requirements.txt (line 5)) (1.24.3)\n",
            "Collecting joblib>=1.1.1\n",
            "  Downloading joblib-1.2.0-py3-none-any.whl (297 kB)\n",
            "\u001b[K     |████████████████████████████████| 297 kB 74.1 MB/s \n",
            "\u001b[?25hCollecting sentry-sdk>=1.0.0\n",
            "  Using cached sentry_sdk-1.23.0-py2.py3-none-any.whl (205 kB)\n",
            "Requirement already satisfied: certifi>=2017.4.17 in /usr/local/lib/python3.9/site-packages (from requests>=2.23.0->-r /content/VisDrone/requirements.txt (line 9)) (2023.5.7)\n",
            "Collecting setproctitle\n",
            "  Downloading setproctitle-1.3.2-cp39-cp39-manylinux_2_5_x86_64.manylinux1_x86_64.manylinux_2_17_x86_64.manylinux2014_x86_64.whl (30 kB)\n",
            "Collecting smmap<6,>=3.0.1\n",
            "  Using cached smmap-5.0.0-py3-none-any.whl (24 kB)\n",
            "Requirement already satisfied: mpmath>=0.19 in /usr/local/lib/python3.9/site-packages (from sympy->torch>=1.7.0->-r /content/VisDrone/requirements.txt (line 11)) (1.3.0)\n",
            "Collecting tensorboard-data-server<0.8.0,>=0.7.0\n",
            "  Downloading tensorboard_data_server-0.7.0-py3-none-manylinux2014_x86_64.whl (6.6 MB)\n",
            "\u001b[K     |████████████████████████████████| 6.6 MB 75.2 MB/s \n",
            "\u001b[?25hCollecting threadpoolctl>=2.0.0\n",
            "  Downloading threadpoolctl-3.1.0-py3-none-any.whl (14 kB)\n",
            "Collecting tifffile>=2019.7.26\n",
            "  Downloading tifffile-2023.4.12-py3-none-any.whl (219 kB)\n",
            "\u001b[K     |████████████████████████████████| 219 kB 66.3 MB/s \n",
            "\u001b[?25hRequirement already satisfied: numpy>=1.18.5 in /usr/local/lib/python3.9/site-packages (from -r /content/VisDrone/requirements.txt (line 5)) (1.24.3)\n",
            "Requirement already satisfied: filelock in /usr/local/lib/python3.9/site-packages (from torch>=1.7.0->-r /content/VisDrone/requirements.txt (line 11)) (3.12.0)\n",
            "Requirement already satisfied: lit in /usr/local/lib/python3.9/site-packages (from triton==2.0.0->torch>=1.7.0->-r /content/VisDrone/requirements.txt (line 11)) (16.0.3)\n",
            "Requirement already satisfied: cmake in /usr/local/lib/python3.9/site-packages (from triton==2.0.0->torch>=1.7.0->-r /content/VisDrone/requirements.txt (line 11)) (3.26.3)\n",
            "Requirement already satisfied: torch>=1.7.0 in /usr/local/lib/python3.9/site-packages (from -r /content/VisDrone/requirements.txt (line 11)) (2.0.0+cu118)\n",
            "Collecting urllib3<3,>=1.21.1\n",
            "  Downloading urllib3-1.26.15-py2.py3-none-any.whl (140 kB)\n",
            "\u001b[K     |████████████████████████████████| 140 kB 63.7 MB/s \n",
            "\u001b[?25hCollecting werkzeug>=1.0.1\n",
            "  Downloading Werkzeug-2.3.4-py3-none-any.whl (242 kB)\n",
            "\u001b[K     |████████████████████████████████| 242 kB 63.3 MB/s \n",
            "\u001b[?25hRequirement already satisfied: MarkupSafe>=2.0 in /usr/local/lib/python3.9/site-packages (from jinja2->torch>=1.7.0->-r /content/VisDrone/requirements.txt (line 11)) (2.1.2)\n",
            "Building wheels for collected packages: pathtools\n",
            "  Building wheel for pathtools (setup.py) ... \u001b[?25l\u001b[?25hdone\n",
            "  Created wheel for pathtools: filename=pathtools-0.1.2-py3-none-any.whl size=8786 sha256=9e89eb644de173e7b0653601fbfb57b56b4a0dfe6ecf34631420cc640e2868aa\n",
            "  Stored in directory: /root/.cache/pip/wheels/b7/0a/67/ada2a22079218c75a88361c0782855cc72aebc4d18d0289d05\n",
            "Successfully built pathtools\n",
            "Installing collected packages: urllib3, threadpoolctl, smmap, scipy, oauthlib, joblib, tifffile, scikit-learn, requests-oauthlib, PyWavelets, pyparsing, opencv-python-headless, lazy-loader, kiwisolver, importlib-resources, imageio, gitdb, fonttools, cycler, contourpy, werkzeug, tensorboard-data-server, setproctitle, sentry-sdk, scikit-image, qudida, protobuf, pathtools, matplotlib, markdown, grpcio, google-auth-oauthlib, GitPython, docker-pycreds, Click, appdirs, absl-py, wandb, thop, tensorboard, seaborn, ensemble-boxes, albumentations\n",
            "  Attempting uninstall: urllib3\n",
            "    Found existing installation: urllib3 2.0.2\n",
            "    Uninstalling urllib3-2.0.2:\n",
            "      Successfully uninstalled urllib3-2.0.2\n",
            "  Attempting uninstall: scipy\n",
            "    Found existing installation: scipy 1.10.1\n",
            "    Uninstalling scipy-1.10.1:\n",
            "      Successfully uninstalled scipy-1.10.1\n",
            "Successfully installed Click-8.1.3 GitPython-3.1.31 PyWavelets-1.4.1 absl-py-1.4.0 albumentations-1.3.0 appdirs-1.4.4 contourpy-1.0.7 cycler-0.11.0 docker-pycreds-0.4.0 ensemble-boxes-1.0.9 fonttools-4.39.4 gitdb-4.0.10 google-auth-oauthlib-1.0.0 grpcio-1.54.2 imageio-2.28.1 importlib-resources-5.12.0 joblib-1.2.0 kiwisolver-1.4.4 lazy-loader-0.2 markdown-3.4.3 matplotlib-3.7.1 oauthlib-3.2.2 opencv-python-headless-4.7.0.72 pathtools-0.1.2 protobuf-4.23.0 pyparsing-3.0.9 qudida-0.0.4 requests-oauthlib-1.3.1 scikit-image-0.20.0 scikit-learn-1.2.2 scipy-1.9.1 seaborn-0.12.2 sentry-sdk-1.23.0 setproctitle-1.3.2 smmap-5.0.0 tensorboard-2.13.0 tensorboard-data-server-0.7.0 thop-0.1.1.post2209072238 threadpoolctl-3.1.0 tifffile-2023.4.12 urllib3-1.26.15 wandb-0.15.2 werkzeug-2.3.4\n"
          ]
        },
        {
          "output_type": "display_data",
          "data": {
            "application/vnd.colab-display-data+json": {
              "pip_warning": {
                "packages": [
                  "cycler",
                  "kiwisolver",
                  "matplotlib",
                  "mpl_toolkits"
                ]
              }
            }
          },
          "metadata": {}
        }
      ],
      "source": [
        "!pip install -r /content/VisDrone/requirements.txt"
      ]
    },
    {
      "cell_type": "code",
      "execution_count": null,
      "metadata": {
        "colab": {
          "base_uri": "https://localhost:8080/"
        },
        "id": "Gt0rIOv7OJLZ",
        "outputId": "f93e210e-8bbc-42be-d121-9a469e3298c4"
      },
      "outputs": [
        {
          "output_type": "stream",
          "name": "stdout",
          "text": [
            "Mounted at /content/drive\n"
          ]
        }
      ],
      "source": [
        "from google.colab import drive\n",
        "drive.mount('/content/drive')"
      ]
    },
    {
      "cell_type": "code",
      "execution_count": null,
      "metadata": {
        "colab": {
          "base_uri": "https://localhost:8080/"
        },
        "id": "91-Qjuc9B42H",
        "outputId": "dc1d7156-1e7f-4d55-dc42-29bf64ae9c0c"
      },
      "outputs": [
        {
          "output_type": "stream",
          "name": "stdout",
          "text": [
            "548\n"
          ]
        }
      ],
      "source": [
        "!python /content/VisDrone/VisDrone2YOLO_lable.py"
      ]
    },
    {
      "cell_type": "code",
      "source": [
        "!sudo update-alternatives --install /usr/bin/python3 python3 /usr/bin/python3.9 2"
      ],
      "metadata": {
        "id": "2QudZ5CSTQ6x"
      },
      "execution_count": null,
      "outputs": []
    },
    {
      "cell_type": "code",
      "source": [
        "!sudo update-alternatives --config python3"
      ],
      "metadata": {
        "colab": {
          "base_uri": "https://localhost:8080/"
        },
        "id": "BLST20puWUDD",
        "outputId": "cb161e77-5868-4190-e500-18da529bc8ca"
      },
      "execution_count": null,
      "outputs": [
        {
          "output_type": "stream",
          "name": "stdout",
          "text": [
            "There are 3 choices for the alternative python3 (providing /usr/bin/python3).\n",
            "\n",
            "  Selection    Path                 Priority   Status\n",
            "------------------------------------------------------------\n",
            "  0            /usr/bin/python3.10   2         auto mode\n",
            "  1            /usr/bin/python3.10   2         manual mode\n",
            "* 2            /usr/bin/python3.8    1         manual mode\n",
            "  3            /usr/bin/python3.9    2         manual mode\n",
            "\n",
            "Press <enter> to keep the current choice[*], or type selection number: ^C\n"
          ]
        }
      ]
    },
    {
      "cell_type": "code",
      "source": [
        "! python --version"
      ],
      "metadata": {
        "colab": {
          "base_uri": "https://localhost:8080/"
        },
        "id": "4yY4Ymm_QEdR",
        "outputId": "9ad2916e-2d23-4b53-b1af-02db6427939a"
      },
      "execution_count": null,
      "outputs": [
        {
          "output_type": "stream",
          "name": "stdout",
          "text": [
            "Python 3.9.1\n"
          ]
        }
      ]
    },
    {
      "cell_type": "code",
      "source": [
        "!pip3 install clean-fid numba numpy torch==2.0.0+cu118 torchvision --force-reinstall --extra-index-url https://download.pytorch.org/whl/cu118"
      ],
      "metadata": {
        "colab": {
          "base_uri": "https://localhost:8080/",
          "height": 1000
        },
        "id": "VmoiAwjVg_0a",
        "outputId": "d33a046d-f9ef-4810-8c90-7a1aadf2180c"
      },
      "execution_count": null,
      "outputs": [
        {
          "output_type": "stream",
          "name": "stdout",
          "text": [
            "Looking in indexes: https://pypi.org/simple, https://us-python.pkg.dev/colab-wheels/public/simple/, https://download.pytorch.org/whl/cu118\n",
            "Collecting clean-fid\n",
            "  Downloading clean_fid-0.1.35-py3-none-any.whl (26 kB)\n",
            "Collecting numba\n",
            "  Downloading numba-0.57.0-cp39-cp39-manylinux2014_x86_64.manylinux_2_17_x86_64.whl (3.6 MB)\n",
            "\u001b[K     |████████████████████████████████| 3.6 MB 7.2 MB/s \n",
            "\u001b[?25hCollecting numpy\n",
            "  Downloading numpy-1.24.3-cp39-cp39-manylinux_2_17_x86_64.manylinux2014_x86_64.whl (17.3 MB)\n",
            "\u001b[K     |████████████████████████████████| 17.3 MB 43.7 MB/s \n",
            "\u001b[?25hCollecting torch==2.0.0+cu118\n",
            "  Downloading https://download.pytorch.org/whl/cu118/torch-2.0.0%2Bcu118-cp39-cp39-linux_x86_64.whl (2267.3 MB)\n",
            "\u001b[K     |████████████████████████████████| 2267.3 MB 1.6 kB/s \n",
            "\u001b[?25hCollecting torchvision\n",
            "  Downloading https://download.pytorch.org/whl/cu118/torchvision-0.15.2%2Bcu118-cp39-cp39-linux_x86_64.whl (6.1 MB)\n",
            "\u001b[K     |████████████████████████████████| 6.1 MB 60.3 MB/s \n",
            "\u001b[?25h  Downloading torchvision-0.15.2-cp39-cp39-manylinux1_x86_64.whl (6.0 MB)\n",
            "\u001b[K     |████████████████████████████████| 6.0 MB 55.7 MB/s \n",
            "\u001b[?25h  Downloading https://download.pytorch.org/whl/cu118/torchvision-0.15.1%2Bcu118-cp39-cp39-linux_x86_64.whl (6.1 MB)\n",
            "\u001b[K     |████████████████████████████████| 6.1 MB 62.2 MB/s \n",
            "\u001b[?25hCollecting filelock\n",
            "  Downloading filelock-3.12.0-py3-none-any.whl (10 kB)\n",
            "Collecting jinja2\n",
            "  Downloading https://download.pytorch.org/whl/Jinja2-3.1.2-py3-none-any.whl (133 kB)\n",
            "\u001b[K     |████████████████████████████████| 133 kB 65.9 MB/s \n",
            "\u001b[?25hCollecting llvmlite<0.41,>=0.40.0dev0\n",
            "  Downloading llvmlite-0.40.0-cp39-cp39-manylinux_2_17_x86_64.manylinux2014_x86_64.whl (42.1 MB)\n",
            "\u001b[K     |████████████████████████████████| 42.1 MB 1.2 MB/s \n",
            "\u001b[?25hCollecting MarkupSafe>=2.0\n",
            "  Downloading https://download.pytorch.org/whl/MarkupSafe-2.1.2-cp39-cp39-manylinux_2_17_x86_64.manylinux2014_x86_64.whl (25 kB)\n",
            "Collecting networkx\n",
            "  Downloading networkx-3.1-py3-none-any.whl (2.1 MB)\n",
            "\u001b[K     |████████████████████████████████| 2.1 MB 71.8 MB/s \n",
            "\u001b[?25hCollecting pillow>=8.1\n",
            "  Downloading Pillow-9.5.0-cp39-cp39-manylinux_2_28_x86_64.whl (3.4 MB)\n",
            "\u001b[K     |████████████████████████████████| 3.4 MB 62.0 MB/s \n",
            "\u001b[?25hCollecting requests\n",
            "  Downloading requests-2.30.0-py3-none-any.whl (62 kB)\n",
            "\u001b[K     |████████████████████████████████| 62 kB 1.2 MB/s \n",
            "\u001b[?25hCollecting certifi>=2017.4.17\n",
            "  Downloading certifi-2023.5.7-py3-none-any.whl (156 kB)\n",
            "\u001b[K     |████████████████████████████████| 156 kB 81.0 MB/s \n",
            "\u001b[?25hCollecting charset-normalizer<4,>=2\n",
            "  Downloading charset_normalizer-3.1.0-cp39-cp39-manylinux_2_17_x86_64.manylinux2014_x86_64.whl (199 kB)\n",
            "\u001b[K     |████████████████████████████████| 199 kB 84.1 MB/s \n",
            "\u001b[?25hCollecting idna<4,>=2.5\n",
            "  Downloading https://download.pytorch.org/whl/idna-3.4-py3-none-any.whl (61 kB)\n",
            "\u001b[K     |████████████████████████████████| 61 kB 119 kB/s \n",
            "\u001b[?25hCollecting scipy>=1.0.1\n",
            "  Downloading scipy-1.10.1-cp39-cp39-manylinux_2_17_x86_64.manylinux2014_x86_64.whl (34.5 MB)\n",
            "\u001b[K     |████████████████████████████████| 34.5 MB 20 kB/s \n",
            "\u001b[?25hCollecting sympy\n",
            "  Downloading sympy-1.12-py3-none-any.whl (5.7 MB)\n",
            "\u001b[K     |████████████████████████████████| 5.7 MB 69.8 MB/s \n",
            "\u001b[?25hCollecting mpmath>=0.19\n",
            "  Downloading mpmath-1.3.0-py3-none-any.whl (536 kB)\n",
            "\u001b[K     |████████████████████████████████| 536 kB 73.0 MB/s \n",
            "\u001b[?25hCollecting tqdm>=4.28.1\n",
            "  Downloading tqdm-4.65.0-py3-none-any.whl (77 kB)\n",
            "\u001b[K     |████████████████████████████████| 77 kB 7.4 MB/s \n",
            "\u001b[?25hCollecting triton==2.0.0\n",
            "  Downloading https://download.pytorch.org/whl/triton-2.0.0-1-cp39-cp39-manylinux2014_x86_64.manylinux_2_17_x86_64.whl (63.3 MB)\n",
            "\u001b[K     |████████████████████████████████| 63.3 MB 1.2 MB/s \n",
            "\u001b[?25hCollecting cmake\n",
            "  Downloading cmake-3.26.3-py2.py3-none-manylinux2014_x86_64.manylinux_2_17_x86_64.whl (24.0 MB)\n",
            "\u001b[K     |████████████████████████████████| 24.0 MB 1.2 MB/s \n",
            "\u001b[?25hCollecting lit\n",
            "  Downloading lit-16.0.3.tar.gz (138 kB)\n",
            "\u001b[K     |████████████████████████████████| 138 kB 78.7 MB/s \n",
            "\u001b[?25hCollecting typing-extensions\n",
            "  Downloading typing_extensions-4.5.0-py3-none-any.whl (27 kB)\n",
            "Collecting urllib3<3,>=1.21.1\n",
            "  Downloading urllib3-2.0.2-py3-none-any.whl (123 kB)\n",
            "\u001b[K     |████████████████████████████████| 123 kB 73.2 MB/s \n",
            "\u001b[?25hBuilding wheels for collected packages: lit\n",
            "  Building wheel for lit (setup.py) ... \u001b[?25l\u001b[?25hdone\n",
            "  Created wheel for lit: filename=lit-16.0.3-py3-none-any.whl size=88192 sha256=d0e310569c9bc19d47176f19edfc529b50c2b873338872a71bfd4cadc4a084a7\n",
            "  Stored in directory: /root/.cache/pip/wheels/e0/ed/f5/a14343c01f340fb3081562725a52c71540eb6fda3d31dd004e\n",
            "Successfully built lit\n",
            "Installing collected packages: mpmath, MarkupSafe, lit, filelock, cmake, urllib3, typing-extensions, triton, sympy, networkx, jinja2, idna, charset-normalizer, certifi, torch, requests, pillow, numpy, tqdm, torchvision, scipy, llvmlite, numba, clean-fid\n",
            "  Attempting uninstall: MarkupSafe\n",
            "    Found existing installation: MarkupSafe 2.1.1\n",
            "    Uninstalling MarkupSafe-2.1.1:\n",
            "      Successfully uninstalled MarkupSafe-2.1.1\n",
            "  Attempting uninstall: urllib3\n",
            "    Found existing installation: urllib3 1.25.11\n",
            "    Uninstalling urllib3-1.25.11:\n",
            "      Successfully uninstalled urllib3-1.25.11\n",
            "  Attempting uninstall: typing-extensions\n",
            "    Found existing installation: typing-extensions 4.5.0\n",
            "    Uninstalling typing-extensions-4.5.0:\n",
            "      Successfully uninstalled typing-extensions-4.5.0\n",
            "  Attempting uninstall: jinja2\n",
            "    Found existing installation: Jinja2 3.1.2\n",
            "    Uninstalling Jinja2-3.1.2:\n",
            "      Successfully uninstalled Jinja2-3.1.2\n",
            "  Attempting uninstall: idna\n",
            "    Found existing installation: idna 2.10\n",
            "    Uninstalling idna-2.10:\n",
            "      Successfully uninstalled idna-2.10\n",
            "  Attempting uninstall: charset-normalizer\n",
            "    Found existing installation: charset-normalizer 2.0.4\n",
            "    Uninstalling charset-normalizer-2.0.4:\n",
            "      Successfully uninstalled charset-normalizer-2.0.4\n",
            "  Attempting uninstall: certifi\n",
            "    Found existing installation: certifi 2023.5.7\n",
            "    Uninstalling certifi-2023.5.7:\n",
            "      Successfully uninstalled certifi-2023.5.7\n",
            "  Attempting uninstall: requests\n",
            "    Found existing installation: requests 2.25.0\n",
            "    Uninstalling requests-2.25.0:\n",
            "      Successfully uninstalled requests-2.25.0\n",
            "  Attempting uninstall: numpy\n",
            "    Found existing installation: numpy 1.22.3\n",
            "    Uninstalling numpy-1.22.3:\n",
            "      Successfully uninstalled numpy-1.22.3\n",
            "  Attempting uninstall: tqdm\n",
            "    Found existing installation: tqdm 4.54.1\n",
            "    Uninstalling tqdm-4.54.1:\n",
            "      Successfully uninstalled tqdm-4.54.1\n",
            "\u001b[31mERROR: pip's dependency resolver does not currently take into account all the packages that are installed. This behaviour is the source of the following dependency conflicts.\n",
            "google-auth 2.18.0 requires urllib3<2.0, but you have urllib3 2.0.2 which is incompatible.\n",
            "aiohttp 3.8.1 requires charset-normalizer<3.0,>=2.0, but you have charset-normalizer 3.1.0 which is incompatible.\u001b[0m\n",
            "Successfully installed MarkupSafe-2.1.2 certifi-2023.5.7 charset-normalizer-3.1.0 clean-fid-0.1.35 cmake-3.26.3 filelock-3.12.0 idna-3.4 jinja2-3.1.2 lit-16.0.3 llvmlite-0.40.0 mpmath-1.3.0 networkx-3.1 numba-0.57.0 numpy-1.24.3 pillow-9.5.0 requests-2.30.0 scipy-1.10.1 sympy-1.12 torch-2.0.0+cu118 torchvision-0.15.1+cu118 tqdm-4.65.0 triton-2.0.0 typing-extensions-4.5.0 urllib3-2.0.2\n"
          ]
        },
        {
          "output_type": "display_data",
          "data": {
            "application/vnd.colab-display-data+json": {
              "pip_warning": {
                "packages": [
                  "mpmath",
                  "nvfuser",
                  "torch",
                  "tqdm"
                ]
              }
            }
          },
          "metadata": {}
        }
      ]
    },
    {
      "cell_type": "code",
      "source": [
        "print(torch.__version__)"
      ],
      "metadata": {
        "colab": {
          "base_uri": "https://localhost:8080/"
        },
        "id": "5e305fwGhs66",
        "outputId": "4d539ab0-5bcc-451d-977c-c0784cd3a842"
      },
      "execution_count": 101,
      "outputs": [
        {
          "output_type": "stream",
          "name": "stdout",
          "text": [
            "2.0.0+cu118\n"
          ]
        }
      ]
    },
    {
      "cell_type": "code",
      "source": [
        "!pip install opencv-python>=4.1.2"
      ],
      "metadata": {
        "id": "C1l6RCDwm9ac"
      },
      "execution_count": 97,
      "outputs": []
    },
    {
      "cell_type": "code",
      "source": [
        "!python /content/VisDrone/val.py --weights /content/drive/MyDrive/VisDrone/yolov5l-xs-2.pt --img 1996 --data /content/VisDrone/data/VisDrone.yaml --augment --save-txt  --save-conf --task val --batch-size 8 --verbose --name v5l-xs"
      ],
      "metadata": {
        "colab": {
          "base_uri": "https://localhost:8080/"
        },
        "id": "CcApb-bm6oUV",
        "outputId": "911cce8d-b09e-4869-8257-1e1df5e2a38a"
      },
      "execution_count": 110,
      "outputs": [
        {
          "output_type": "stream",
          "name": "stdout",
          "text": [
            "\u001b[34m\u001b[1mval: \u001b[0mdata=/content/VisDrone/data/VisDrone.yaml, weights=['/content/drive/MyDrive/VisDrone/yolov5l-xs-2.pt'], batch_size=8, imgsz=1996, conf_thres=0.001, iou_thres=0.6, task=val, device=, single_cls=False, augment=True, verbose=True, save_txt=True, save_hybrid=False, save_conf=True, save_json=False, project=VisDrone/runs/val, name=v5l-xs, exist_ok=False, half=False\n",
            "\u001b[31m\u001b[1mrequirements:\u001b[0m albumentations>=1.0.3 not found and is required by YOLOv5, attempting auto-update...\n",
            "Looking in indexes: https://pypi.org/simple, https://us-python.pkg.dev/colab-wheels/public/simple/\n",
            "Requirement already satisfied: albumentations>=1.0.3 in /usr/local/lib/python3.9/site-packages (1.3.0)\n",
            "Requirement already satisfied: scikit-image>=0.16.1 in /usr/local/lib/python3.9/site-packages (from albumentations>=1.0.3) (0.20.0)\n",
            "Requirement already satisfied: scipy in /usr/local/lib/python3.9/site-packages (from albumentations>=1.0.3) (1.9.1)\n",
            "Requirement already satisfied: numpy>=1.11.1 in /usr/local/lib/python3.9/site-packages (from albumentations>=1.0.3) (1.20.0)\n",
            "Requirement already satisfied: PyYAML in /usr/local/lib/python3.9/site-packages (from albumentations>=1.0.3) (6.0)\n",
            "Requirement already satisfied: qudida>=0.0.4 in /usr/local/lib/python3.9/site-packages (from albumentations>=1.0.3) (0.0.4)\n",
            "Requirement already satisfied: opencv-python-headless>=4.1.1 in /usr/local/lib/python3.9/site-packages (from albumentations>=1.0.3) (4.7.0.72)\n",
            "Requirement already satisfied: numpy>=1.11.1 in /usr/local/lib/python3.9/site-packages (from albumentations>=1.0.3) (1.20.0)\n",
            "Requirement already satisfied: numpy>=1.11.1 in /usr/local/lib/python3.9/site-packages (from albumentations>=1.0.3) (1.20.0)\n",
            "Requirement already satisfied: numpy>=1.11.1 in /usr/local/lib/python3.9/site-packages (from albumentations>=1.0.3) (1.20.0)\n",
            "Requirement already satisfied: scikit-learn>=0.19.1 in /usr/local/lib/python3.9/site-packages (from qudida>=0.0.4->albumentations>=1.0.3) (1.2.2)\n",
            "Requirement already satisfied: opencv-python-headless>=4.1.1 in /usr/local/lib/python3.9/site-packages (from albumentations>=1.0.3) (4.7.0.72)\n",
            "Requirement already satisfied: typing-extensions in /usr/local/lib/python3.9/site-packages (from qudida>=0.0.4->albumentations>=1.0.3) (4.5.0)\n",
            "Requirement already satisfied: numpy>=1.11.1 in /usr/local/lib/python3.9/site-packages (from albumentations>=1.0.3) (1.20.0)\n",
            "Requirement already satisfied: pillow>=9.0.1 in /usr/local/lib/python3.9/site-packages (from scikit-image>=0.16.1->albumentations>=1.0.3) (9.5.0)\n",
            "Requirement already satisfied: tifffile>=2019.7.26 in /usr/local/lib/python3.9/site-packages (from scikit-image>=0.16.1->albumentations>=1.0.3) (2023.4.12)\n",
            "Requirement already satisfied: PyWavelets>=1.1.1 in /usr/local/lib/python3.9/site-packages (from scikit-image>=0.16.1->albumentations>=1.0.3) (1.4.1)\n",
            "Requirement already satisfied: lazy_loader>=0.1 in /usr/local/lib/python3.9/site-packages (from scikit-image>=0.16.1->albumentations>=1.0.3) (0.2)\n",
            "Requirement already satisfied: scipy in /usr/local/lib/python3.9/site-packages (from albumentations>=1.0.3) (1.9.1)\n",
            "Requirement already satisfied: packaging>=20.0 in /usr/local/lib/python3.9/site-packages (from scikit-image>=0.16.1->albumentations>=1.0.3) (23.0)\n",
            "Requirement already satisfied: imageio>=2.4.1 in /usr/local/lib/python3.9/site-packages (from scikit-image>=0.16.1->albumentations>=1.0.3) (2.28.1)\n",
            "Requirement already satisfied: networkx>=2.8 in /usr/local/lib/python3.9/site-packages (from scikit-image>=0.16.1->albumentations>=1.0.3) (3.1)\n",
            "Requirement already satisfied: pillow>=9.0.1 in /usr/local/lib/python3.9/site-packages (from scikit-image>=0.16.1->albumentations>=1.0.3) (9.5.0)\n",
            "Collecting numpy>=1.11.1\n",
            "  Using cached numpy-1.24.3-cp39-cp39-manylinux_2_17_x86_64.manylinux2014_x86_64.whl (17.3 MB)\n",
            "Requirement already satisfied: threadpoolctl>=2.0.0 in /usr/local/lib/python3.9/site-packages (from scikit-learn>=0.19.1->qudida>=0.0.4->albumentations>=1.0.3) (3.1.0)\n",
            "Requirement already satisfied: scipy in /usr/local/lib/python3.9/site-packages (from albumentations>=1.0.3) (1.9.1)\n",
            "Requirement already satisfied: joblib>=1.1.1 in /usr/local/lib/python3.9/site-packages (from scikit-learn>=0.19.1->qudida>=0.0.4->albumentations>=1.0.3) (1.2.0)\n",
            "Installing collected packages: numpy\n",
            "  Attempting uninstall: numpy\n",
            "    Found existing installation: numpy 1.20.0\n",
            "    Uninstalling numpy-1.20.0:\n",
            "      Successfully uninstalled numpy-1.20.0\n",
            "Successfully installed numpy-1.24.3\n",
            "\n",
            "\u001b[31m\u001b[1mrequirements:\u001b[0m ensemble_boxes not found and is required by YOLOv5, attempting auto-update...\n",
            "Looking in indexes: https://pypi.org/simple, https://us-python.pkg.dev/colab-wheels/public/simple/\n",
            "Requirement already satisfied: ensemble_boxes in /usr/local/lib/python3.9/site-packages (1.0.9)\n",
            "Requirement already satisfied: numba in /usr/local/lib/python3.9/site-packages (from ensemble_boxes) (0.57.0)\n",
            "Requirement already satisfied: numpy in /usr/local/lib/python3.9/site-packages (from ensemble_boxes) (1.24.3)\n",
            "Requirement already satisfied: pandas in /usr/local/lib/python3.9/site-packages (from ensemble_boxes) (1.2.3)\n",
            "Requirement already satisfied: llvmlite<0.41,>=0.40.0dev0 in /usr/local/lib/python3.9/site-packages (from numba->ensemble_boxes) (0.40.0)\n",
            "Requirement already satisfied: numpy in /usr/local/lib/python3.9/site-packages (from ensemble_boxes) (1.24.3)\n",
            "Requirement already satisfied: python-dateutil>=2.7.3 in /usr/local/lib/python3.9/site-packages (from pandas->ensemble_boxes) (2.8.2)\n",
            "Requirement already satisfied: pytz>=2017.3 in /usr/local/lib/python3.9/site-packages (from pandas->ensemble_boxes) (2022.7)\n",
            "Requirement already satisfied: numpy in /usr/local/lib/python3.9/site-packages (from ensemble_boxes) (1.24.3)\n",
            "Requirement already satisfied: six>=1.5 in /usr/local/lib/python3.9/site-packages (from python-dateutil>=2.7.3->pandas->ensemble_boxes) (1.15.0)\n",
            "\n",
            "\u001b[31m\u001b[1mrequirements:\u001b[0m 2 packages updated per /content/VisDrone/requirements.txt\n",
            "\u001b[31m\u001b[1mrequirements:\u001b[0m ⚠️ \u001b[1mRestart runtime or rerun command for updates to take effect\u001b[0m\n",
            "\n",
            "YOLOv5 🚀 14ded73 torch 2.0.0+cu118 CUDA:0 (Tesla T4, 15102MiB)\n",
            "\n",
            "Fusing layers... \n",
            "Model Summary: 589 layers, 68030516 parameters, 0 gradients, 151.8 GFLOPs\n",
            "WARNING: --img-size 1996 must be multiple of max stride 32, updating to 2016\n",
            "\u001b[34m\u001b[1mval: \u001b[0mScanning '../datasets/VisDrone/VisDrone2019-DET-val/labels.cache' images and labels... 548 found, 0 missing, 0 empty, 0 corrupted: 100% 548/548 [00:00<?, ?it/s]\n",
            "               Class     Images     Labels          P          R     mAP@.5 mAP@.5:.95: 100% 69/69 [17:04<00:00, 14.85s/it]\n",
            "                 all        548      38759       0.66      0.603      0.632       0.41\n",
            "          pedestrian        548       8844      0.718       0.71      0.747      0.409\n",
            "              people        548       5125       0.72      0.565      0.621      0.287\n",
            "             bicycle        548       1287      0.551      0.452      0.481      0.259\n",
            "                 car        548      14064      0.814      0.891      0.914      0.698\n",
            "                 van        548       1975      0.618      0.628      0.624      0.479\n",
            "               truck        548        750      0.617      0.603       0.61      0.438\n",
            "            tricycle        548       1045      0.616      0.478      0.522      0.334\n",
            "     awning-tricycle        548        532       0.48      0.291      0.315       0.22\n",
            "                 bus        548        251      0.752      0.749      0.776      0.599\n",
            "               motor        548       4886      0.713      0.664      0.706      0.384\n",
            "Speed: 1.3ms pre-process, 1602.4ms inference, 97.7ms NMS per image at shape (8, 3, 2016, 2016)\n",
            "Results saved to \u001b[1mVisDrone/runs/val/v5l-xs4\u001b[0m\n",
            "548 labels saved to VisDrone/runs/val/v5l-xs4/labels\n"
          ]
        }
      ]
    },
    {
      "cell_type": "code",
      "execution_count": null,
      "metadata": {
        "id": "SgnpkfPXfRvk"
      },
      "outputs": [],
      "source": [
        "#!wandb disabled\n",
        "#!python /content/tph-yolov5/train.py --img 1536 --adam --batch 3 --epochs 80 --data /content/tph-yolov5/data/VisDrone.yaml --weights yolov5l.pt --hy /content/tph-yolov5/data/hyps/hyp.VisDrone.yaml --cfg /content/tph-yolov5/models/yolov5l-xs-tph.yaml --name v5l-xs-tph\n",
        "#!python /content/tph-yolov5/train.py --img 1536 --adam --batch 3 --epochs 80 --data /content/tph-yolov5/data/VisDrone.yaml --weights yolov5l.pt --hy /content/tph-yolov5/data/hyps/hyp.VisDrone.yaml --cfg /content/tph-yolov5/models/yolov5l-tph-plus.yaml --name v5l-tph-plus"
      ]
    },
    {
      "cell_type": "code",
      "source": [],
      "metadata": {
        "id": "v1T8qBa6SH-8"
      },
      "execution_count": null,
      "outputs": []
    }
  ],
  "metadata": {
    "colab": {
      "provenance": [],
      "gpuType": "T4",
      "include_colab_link": true
    },
    "gpuClass": "standard",
    "kernelspec": {
      "display_name": "Python 3",
      "name": "python3"
    },
    "language_info": {
      "name": "python"
    },
    "accelerator": "GPU"
  },
  "nbformat": 4,
  "nbformat_minor": 0
}